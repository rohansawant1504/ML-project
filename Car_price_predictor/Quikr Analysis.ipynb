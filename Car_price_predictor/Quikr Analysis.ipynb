{
 "cells": [
  {
   "cell_type": "code",
   "execution_count": 1,
   "metadata": {},
   "outputs": [],
   "source": [
    "import pandas as pd\n",
    "import numpy as np\n",
    "import matplotlib.pyplot as plt\n",
    "import matplotlib as mpl\n",
    "%matplotlib inline\n",
    "mpl.style.use('ggplot')"
   ]
  },
  {
   "cell_type": "code",
   "execution_count": 2,
   "metadata": {},
   "outputs": [],
   "source": [
    "car=pd.read_csv(r\"C:\\Users\\rohan\\ML-project\\Car_price_predictor\\quikr_car.csv\")"
   ]
  },
  {
   "cell_type": "code",
   "execution_count": 3,
   "metadata": {},
   "outputs": [
    {
     "data": {
      "text/html": [
       "<div>\n",
       "<style scoped>\n",
       "    .dataframe tbody tr th:only-of-type {\n",
       "        vertical-align: middle;\n",
       "    }\n",
       "\n",
       "    .dataframe tbody tr th {\n",
       "        vertical-align: top;\n",
       "    }\n",
       "\n",
       "    .dataframe thead th {\n",
       "        text-align: right;\n",
       "    }\n",
       "</style>\n",
       "<table border=\"1\" class=\"dataframe\">\n",
       "  <thead>\n",
       "    <tr style=\"text-align: right;\">\n",
       "      <th></th>\n",
       "      <th>name</th>\n",
       "      <th>company</th>\n",
       "      <th>year</th>\n",
       "      <th>Price</th>\n",
       "      <th>kms_driven</th>\n",
       "      <th>fuel_type</th>\n",
       "    </tr>\n",
       "  </thead>\n",
       "  <tbody>\n",
       "    <tr>\n",
       "      <th>0</th>\n",
       "      <td>Hyundai Santro Xing XO eRLX Euro III</td>\n",
       "      <td>Hyundai</td>\n",
       "      <td>2007</td>\n",
       "      <td>80,000</td>\n",
       "      <td>45,000 kms</td>\n",
       "      <td>Petrol</td>\n",
       "    </tr>\n",
       "    <tr>\n",
       "      <th>1</th>\n",
       "      <td>Mahindra Jeep CL550 MDI</td>\n",
       "      <td>Mahindra</td>\n",
       "      <td>2006</td>\n",
       "      <td>4,25,000</td>\n",
       "      <td>40 kms</td>\n",
       "      <td>Diesel</td>\n",
       "    </tr>\n",
       "    <tr>\n",
       "      <th>2</th>\n",
       "      <td>Maruti Suzuki Alto 800 Vxi</td>\n",
       "      <td>Maruti</td>\n",
       "      <td>2018</td>\n",
       "      <td>Ask For Price</td>\n",
       "      <td>22,000 kms</td>\n",
       "      <td>Petrol</td>\n",
       "    </tr>\n",
       "    <tr>\n",
       "      <th>3</th>\n",
       "      <td>Hyundai Grand i10 Magna 1.2 Kappa VTVT</td>\n",
       "      <td>Hyundai</td>\n",
       "      <td>2014</td>\n",
       "      <td>3,25,000</td>\n",
       "      <td>28,000 kms</td>\n",
       "      <td>Petrol</td>\n",
       "    </tr>\n",
       "    <tr>\n",
       "      <th>4</th>\n",
       "      <td>Ford EcoSport Titanium 1.5L TDCi</td>\n",
       "      <td>Ford</td>\n",
       "      <td>2014</td>\n",
       "      <td>5,75,000</td>\n",
       "      <td>36,000 kms</td>\n",
       "      <td>Diesel</td>\n",
       "    </tr>\n",
       "  </tbody>\n",
       "</table>\n",
       "</div>"
      ],
      "text/plain": [
       "                                     name   company  year          Price  \\\n",
       "0    Hyundai Santro Xing XO eRLX Euro III   Hyundai  2007         80,000   \n",
       "1                 Mahindra Jeep CL550 MDI  Mahindra  2006       4,25,000   \n",
       "2              Maruti Suzuki Alto 800 Vxi    Maruti  2018  Ask For Price   \n",
       "3  Hyundai Grand i10 Magna 1.2 Kappa VTVT   Hyundai  2014       3,25,000   \n",
       "4        Ford EcoSport Titanium 1.5L TDCi      Ford  2014       5,75,000   \n",
       "\n",
       "   kms_driven fuel_type  \n",
       "0  45,000 kms    Petrol  \n",
       "1      40 kms    Diesel  \n",
       "2  22,000 kms    Petrol  \n",
       "3  28,000 kms    Petrol  \n",
       "4  36,000 kms    Diesel  "
      ]
     },
     "execution_count": 3,
     "metadata": {},
     "output_type": "execute_result"
    }
   ],
   "source": [
    "car.head()"
   ]
  },
  {
   "cell_type": "code",
   "execution_count": 4,
   "metadata": {},
   "outputs": [
    {
     "data": {
      "text/plain": [
       "(892, 6)"
      ]
     },
     "execution_count": 4,
     "metadata": {},
     "output_type": "execute_result"
    }
   ],
   "source": [
    "car.shape"
   ]
  },
  {
   "cell_type": "code",
   "execution_count": 5,
   "metadata": {},
   "outputs": [
    {
     "name": "stdout",
     "output_type": "stream",
     "text": [
      "<class 'pandas.core.frame.DataFrame'>\n",
      "RangeIndex: 892 entries, 0 to 891\n",
      "Data columns (total 6 columns):\n",
      " #   Column      Non-Null Count  Dtype \n",
      "---  ------      --------------  ----- \n",
      " 0   name        892 non-null    object\n",
      " 1   company     892 non-null    object\n",
      " 2   year        892 non-null    object\n",
      " 3   Price       892 non-null    object\n",
      " 4   kms_driven  840 non-null    object\n",
      " 5   fuel_type   837 non-null    object\n",
      "dtypes: object(6)\n",
      "memory usage: 41.9+ KB\n"
     ]
    }
   ],
   "source": [
    "car.info()"
   ]
  },
  {
   "cell_type": "markdown",
   "metadata": {},
   "source": [
    "##### Creating backup copy"
   ]
  },
  {
   "cell_type": "code",
   "execution_count": 6,
   "metadata": {},
   "outputs": [],
   "source": [
    "backup=car.copy()"
   ]
  },
  {
   "cell_type": "markdown",
   "metadata": {},
   "source": [
    "## Quality\n",
    "\n",
    "- names are pretty inconsistent\n",
    "- names have company names attached to it\n",
    "- some names are spam like 'Maruti Ertiga showroom condition with' and 'Well mentained Tata Sumo'\n",
    "- company: many of the names are not of any company like 'Used', 'URJENT', and so on.\n",
    "- year has many non-year values\n",
    "- year is in object. Change to integer\n",
    "- Price has Ask for Price\n",
    "- Price has commas in its prices and is in object\n",
    "- kms_driven has object values with kms at last.\n",
    "- It has nan values and two rows have 'Petrol' in them\n",
    "- fuel_type has nan values"
   ]
  },
  {
   "cell_type": "markdown",
   "metadata": {},
   "source": [
    "## Cleaning Data "
   ]
  },
  {
   "cell_type": "markdown",
   "metadata": {},
   "source": [
    "#### year has many non-year values"
   ]
  },
  {
   "cell_type": "code",
   "execution_count": 7,
   "metadata": {},
   "outputs": [],
   "source": [
    "car=car[car['year'].str.isnumeric()]"
   ]
  },
  {
   "cell_type": "markdown",
   "metadata": {},
   "source": [
    "#### year is in object. Change to integer"
   ]
  },
  {
   "cell_type": "code",
   "execution_count": 8,
   "metadata": {},
   "outputs": [],
   "source": [
    "car['year']=car['year'].astype(int)"
   ]
  },
  {
   "cell_type": "markdown",
   "metadata": {},
   "source": [
    "#### Price has Ask for Price"
   ]
  },
  {
   "cell_type": "code",
   "execution_count": 9,
   "metadata": {},
   "outputs": [],
   "source": [
    "car=car[car['Price']!='Ask For Price']"
   ]
  },
  {
   "cell_type": "markdown",
   "metadata": {},
   "source": [
    "#### Price has commas in its prices and is in object"
   ]
  },
  {
   "cell_type": "code",
   "execution_count": 10,
   "metadata": {},
   "outputs": [],
   "source": [
    "car['Price']=car['Price'].str.replace(',','').astype(int)"
   ]
  },
  {
   "cell_type": "markdown",
   "metadata": {},
   "source": [
    "####  kms_driven has object values with kms at last."
   ]
  },
  {
   "cell_type": "code",
   "execution_count": 11,
   "metadata": {},
   "outputs": [],
   "source": [
    "car['kms_driven']=car['kms_driven'].str.split().str.get(0).str.replace(',','')"
   ]
  },
  {
   "cell_type": "markdown",
   "metadata": {},
   "source": [
    "#### It has nan values and two rows have 'Petrol' in them"
   ]
  },
  {
   "cell_type": "code",
   "execution_count": 12,
   "metadata": {},
   "outputs": [],
   "source": [
    "car=car[car['kms_driven'].str.isnumeric()]"
   ]
  },
  {
   "cell_type": "code",
   "execution_count": 13,
   "metadata": {},
   "outputs": [],
   "source": [
    "car['kms_driven']=car['kms_driven'].astype(int)"
   ]
  },
  {
   "cell_type": "markdown",
   "metadata": {},
   "source": [
    "#### fuel_type has nan values"
   ]
  },
  {
   "cell_type": "code",
   "execution_count": 14,
   "metadata": {},
   "outputs": [],
   "source": [
    "car=car[~car['fuel_type'].isna()]"
   ]
  },
  {
   "cell_type": "code",
   "execution_count": 15,
   "metadata": {},
   "outputs": [
    {
     "data": {
      "text/plain": [
       "(816, 6)"
      ]
     },
     "execution_count": 15,
     "metadata": {},
     "output_type": "execute_result"
    }
   ],
   "source": [
    "car.shape"
   ]
  },
  {
   "cell_type": "markdown",
   "metadata": {},
   "source": [
    "### name and company had spammed data...but with the previous cleaning, those rows got removed."
   ]
  },
  {
   "cell_type": "markdown",
   "metadata": {},
   "source": [
    "#### Company does not need any cleaning now. Changing car names. Keeping only the first three words"
   ]
  },
  {
   "cell_type": "code",
   "execution_count": 16,
   "metadata": {},
   "outputs": [],
   "source": [
    "car['name']=car['name'].str.split().str.slice(start=0,stop=3).str.join(' ')"
   ]
  },
  {
   "cell_type": "markdown",
   "metadata": {},
   "source": [
    "#### Resetting the index of the final cleaned data"
   ]
  },
  {
   "cell_type": "code",
   "execution_count": 17,
   "metadata": {},
   "outputs": [],
   "source": [
    "car=car.reset_index(drop=True)"
   ]
  },
  {
   "cell_type": "markdown",
   "metadata": {},
   "source": [
    "## Cleaned Data"
   ]
  },
  {
   "cell_type": "code",
   "execution_count": 18,
   "metadata": {},
   "outputs": [
    {
     "data": {
      "text/html": [
       "<div>\n",
       "<style scoped>\n",
       "    .dataframe tbody tr th:only-of-type {\n",
       "        vertical-align: middle;\n",
       "    }\n",
       "\n",
       "    .dataframe tbody tr th {\n",
       "        vertical-align: top;\n",
       "    }\n",
       "\n",
       "    .dataframe thead th {\n",
       "        text-align: right;\n",
       "    }\n",
       "</style>\n",
       "<table border=\"1\" class=\"dataframe\">\n",
       "  <thead>\n",
       "    <tr style=\"text-align: right;\">\n",
       "      <th></th>\n",
       "      <th>name</th>\n",
       "      <th>company</th>\n",
       "      <th>year</th>\n",
       "      <th>Price</th>\n",
       "      <th>kms_driven</th>\n",
       "      <th>fuel_type</th>\n",
       "    </tr>\n",
       "  </thead>\n",
       "  <tbody>\n",
       "    <tr>\n",
       "      <th>0</th>\n",
       "      <td>Hyundai Santro Xing</td>\n",
       "      <td>Hyundai</td>\n",
       "      <td>2007</td>\n",
       "      <td>80000</td>\n",
       "      <td>45000</td>\n",
       "      <td>Petrol</td>\n",
       "    </tr>\n",
       "    <tr>\n",
       "      <th>1</th>\n",
       "      <td>Mahindra Jeep CL550</td>\n",
       "      <td>Mahindra</td>\n",
       "      <td>2006</td>\n",
       "      <td>425000</td>\n",
       "      <td>40</td>\n",
       "      <td>Diesel</td>\n",
       "    </tr>\n",
       "    <tr>\n",
       "      <th>2</th>\n",
       "      <td>Hyundai Grand i10</td>\n",
       "      <td>Hyundai</td>\n",
       "      <td>2014</td>\n",
       "      <td>325000</td>\n",
       "      <td>28000</td>\n",
       "      <td>Petrol</td>\n",
       "    </tr>\n",
       "    <tr>\n",
       "      <th>3</th>\n",
       "      <td>Ford EcoSport Titanium</td>\n",
       "      <td>Ford</td>\n",
       "      <td>2014</td>\n",
       "      <td>575000</td>\n",
       "      <td>36000</td>\n",
       "      <td>Diesel</td>\n",
       "    </tr>\n",
       "    <tr>\n",
       "      <th>4</th>\n",
       "      <td>Ford Figo</td>\n",
       "      <td>Ford</td>\n",
       "      <td>2012</td>\n",
       "      <td>175000</td>\n",
       "      <td>41000</td>\n",
       "      <td>Diesel</td>\n",
       "    </tr>\n",
       "    <tr>\n",
       "      <th>...</th>\n",
       "      <td>...</td>\n",
       "      <td>...</td>\n",
       "      <td>...</td>\n",
       "      <td>...</td>\n",
       "      <td>...</td>\n",
       "      <td>...</td>\n",
       "    </tr>\n",
       "    <tr>\n",
       "      <th>811</th>\n",
       "      <td>Maruti Suzuki Ritz</td>\n",
       "      <td>Maruti</td>\n",
       "      <td>2011</td>\n",
       "      <td>270000</td>\n",
       "      <td>50000</td>\n",
       "      <td>Petrol</td>\n",
       "    </tr>\n",
       "    <tr>\n",
       "      <th>812</th>\n",
       "      <td>Tata Indica V2</td>\n",
       "      <td>Tata</td>\n",
       "      <td>2009</td>\n",
       "      <td>110000</td>\n",
       "      <td>30000</td>\n",
       "      <td>Diesel</td>\n",
       "    </tr>\n",
       "    <tr>\n",
       "      <th>813</th>\n",
       "      <td>Toyota Corolla Altis</td>\n",
       "      <td>Toyota</td>\n",
       "      <td>2009</td>\n",
       "      <td>300000</td>\n",
       "      <td>132000</td>\n",
       "      <td>Petrol</td>\n",
       "    </tr>\n",
       "    <tr>\n",
       "      <th>814</th>\n",
       "      <td>Tata Zest XM</td>\n",
       "      <td>Tata</td>\n",
       "      <td>2018</td>\n",
       "      <td>260000</td>\n",
       "      <td>27000</td>\n",
       "      <td>Diesel</td>\n",
       "    </tr>\n",
       "    <tr>\n",
       "      <th>815</th>\n",
       "      <td>Mahindra Quanto C8</td>\n",
       "      <td>Mahindra</td>\n",
       "      <td>2013</td>\n",
       "      <td>390000</td>\n",
       "      <td>40000</td>\n",
       "      <td>Diesel</td>\n",
       "    </tr>\n",
       "  </tbody>\n",
       "</table>\n",
       "<p>816 rows × 6 columns</p>\n",
       "</div>"
      ],
      "text/plain": [
       "                       name   company  year   Price  kms_driven fuel_type\n",
       "0       Hyundai Santro Xing   Hyundai  2007   80000       45000    Petrol\n",
       "1       Mahindra Jeep CL550  Mahindra  2006  425000          40    Diesel\n",
       "2         Hyundai Grand i10   Hyundai  2014  325000       28000    Petrol\n",
       "3    Ford EcoSport Titanium      Ford  2014  575000       36000    Diesel\n",
       "4                 Ford Figo      Ford  2012  175000       41000    Diesel\n",
       "..                      ...       ...   ...     ...         ...       ...\n",
       "811      Maruti Suzuki Ritz    Maruti  2011  270000       50000    Petrol\n",
       "812          Tata Indica V2      Tata  2009  110000       30000    Diesel\n",
       "813    Toyota Corolla Altis    Toyota  2009  300000      132000    Petrol\n",
       "814            Tata Zest XM      Tata  2018  260000       27000    Diesel\n",
       "815      Mahindra Quanto C8  Mahindra  2013  390000       40000    Diesel\n",
       "\n",
       "[816 rows x 6 columns]"
      ]
     },
     "execution_count": 18,
     "metadata": {},
     "output_type": "execute_result"
    }
   ],
   "source": [
    "car"
   ]
  },
  {
   "cell_type": "code",
   "execution_count": 19,
   "metadata": {},
   "outputs": [],
   "source": [
    "car.to_csv('Cleaned_Car_data.csv')"
   ]
  },
  {
   "cell_type": "code",
   "execution_count": 20,
   "metadata": {},
   "outputs": [
    {
     "name": "stdout",
     "output_type": "stream",
     "text": [
      "<class 'pandas.core.frame.DataFrame'>\n",
      "RangeIndex: 816 entries, 0 to 815\n",
      "Data columns (total 6 columns):\n",
      " #   Column      Non-Null Count  Dtype \n",
      "---  ------      --------------  ----- \n",
      " 0   name        816 non-null    object\n",
      " 1   company     816 non-null    object\n",
      " 2   year        816 non-null    int32 \n",
      " 3   Price       816 non-null    int32 \n",
      " 4   kms_driven  816 non-null    int32 \n",
      " 5   fuel_type   816 non-null    object\n",
      "dtypes: int32(3), object(3)\n",
      "memory usage: 28.8+ KB\n"
     ]
    }
   ],
   "source": [
    "car.info()"
   ]
  },
  {
   "cell_type": "code",
   "execution_count": 21,
   "metadata": {},
   "outputs": [
    {
     "data": {
      "text/html": [
       "<div>\n",
       "<style scoped>\n",
       "    .dataframe tbody tr th:only-of-type {\n",
       "        vertical-align: middle;\n",
       "    }\n",
       "\n",
       "    .dataframe tbody tr th {\n",
       "        vertical-align: top;\n",
       "    }\n",
       "\n",
       "    .dataframe thead th {\n",
       "        text-align: right;\n",
       "    }\n",
       "</style>\n",
       "<table border=\"1\" class=\"dataframe\">\n",
       "  <thead>\n",
       "    <tr style=\"text-align: right;\">\n",
       "      <th></th>\n",
       "      <th>name</th>\n",
       "      <th>company</th>\n",
       "      <th>year</th>\n",
       "      <th>Price</th>\n",
       "      <th>kms_driven</th>\n",
       "      <th>fuel_type</th>\n",
       "    </tr>\n",
       "  </thead>\n",
       "  <tbody>\n",
       "    <tr>\n",
       "      <th>count</th>\n",
       "      <td>816</td>\n",
       "      <td>816</td>\n",
       "      <td>816.000000</td>\n",
       "      <td>8.160000e+02</td>\n",
       "      <td>816.000000</td>\n",
       "      <td>816</td>\n",
       "    </tr>\n",
       "    <tr>\n",
       "      <th>unique</th>\n",
       "      <td>254</td>\n",
       "      <td>25</td>\n",
       "      <td>NaN</td>\n",
       "      <td>NaN</td>\n",
       "      <td>NaN</td>\n",
       "      <td>3</td>\n",
       "    </tr>\n",
       "    <tr>\n",
       "      <th>top</th>\n",
       "      <td>Maruti Suzuki Swift</td>\n",
       "      <td>Maruti</td>\n",
       "      <td>NaN</td>\n",
       "      <td>NaN</td>\n",
       "      <td>NaN</td>\n",
       "      <td>Petrol</td>\n",
       "    </tr>\n",
       "    <tr>\n",
       "      <th>freq</th>\n",
       "      <td>51</td>\n",
       "      <td>221</td>\n",
       "      <td>NaN</td>\n",
       "      <td>NaN</td>\n",
       "      <td>NaN</td>\n",
       "      <td>428</td>\n",
       "    </tr>\n",
       "    <tr>\n",
       "      <th>mean</th>\n",
       "      <td>NaN</td>\n",
       "      <td>NaN</td>\n",
       "      <td>2012.444853</td>\n",
       "      <td>4.117176e+05</td>\n",
       "      <td>46275.531863</td>\n",
       "      <td>NaN</td>\n",
       "    </tr>\n",
       "    <tr>\n",
       "      <th>std</th>\n",
       "      <td>NaN</td>\n",
       "      <td>NaN</td>\n",
       "      <td>4.002992</td>\n",
       "      <td>4.751844e+05</td>\n",
       "      <td>34297.428044</td>\n",
       "      <td>NaN</td>\n",
       "    </tr>\n",
       "    <tr>\n",
       "      <th>min</th>\n",
       "      <td>NaN</td>\n",
       "      <td>NaN</td>\n",
       "      <td>1995.000000</td>\n",
       "      <td>3.000000e+04</td>\n",
       "      <td>0.000000</td>\n",
       "      <td>NaN</td>\n",
       "    </tr>\n",
       "    <tr>\n",
       "      <th>25%</th>\n",
       "      <td>NaN</td>\n",
       "      <td>NaN</td>\n",
       "      <td>2010.000000</td>\n",
       "      <td>1.750000e+05</td>\n",
       "      <td>27000.000000</td>\n",
       "      <td>NaN</td>\n",
       "    </tr>\n",
       "    <tr>\n",
       "      <th>50%</th>\n",
       "      <td>NaN</td>\n",
       "      <td>NaN</td>\n",
       "      <td>2013.000000</td>\n",
       "      <td>2.999990e+05</td>\n",
       "      <td>41000.000000</td>\n",
       "      <td>NaN</td>\n",
       "    </tr>\n",
       "    <tr>\n",
       "      <th>75%</th>\n",
       "      <td>NaN</td>\n",
       "      <td>NaN</td>\n",
       "      <td>2015.000000</td>\n",
       "      <td>4.912500e+05</td>\n",
       "      <td>56818.500000</td>\n",
       "      <td>NaN</td>\n",
       "    </tr>\n",
       "    <tr>\n",
       "      <th>max</th>\n",
       "      <td>NaN</td>\n",
       "      <td>NaN</td>\n",
       "      <td>2019.000000</td>\n",
       "      <td>8.500003e+06</td>\n",
       "      <td>400000.000000</td>\n",
       "      <td>NaN</td>\n",
       "    </tr>\n",
       "  </tbody>\n",
       "</table>\n",
       "</div>"
      ],
      "text/plain": [
       "                       name company         year         Price     kms_driven  \\\n",
       "count                   816     816   816.000000  8.160000e+02     816.000000   \n",
       "unique                  254      25          NaN           NaN            NaN   \n",
       "top     Maruti Suzuki Swift  Maruti          NaN           NaN            NaN   \n",
       "freq                     51     221          NaN           NaN            NaN   \n",
       "mean                    NaN     NaN  2012.444853  4.117176e+05   46275.531863   \n",
       "std                     NaN     NaN     4.002992  4.751844e+05   34297.428044   \n",
       "min                     NaN     NaN  1995.000000  3.000000e+04       0.000000   \n",
       "25%                     NaN     NaN  2010.000000  1.750000e+05   27000.000000   \n",
       "50%                     NaN     NaN  2013.000000  2.999990e+05   41000.000000   \n",
       "75%                     NaN     NaN  2015.000000  4.912500e+05   56818.500000   \n",
       "max                     NaN     NaN  2019.000000  8.500003e+06  400000.000000   \n",
       "\n",
       "       fuel_type  \n",
       "count        816  \n",
       "unique         3  \n",
       "top       Petrol  \n",
       "freq         428  \n",
       "mean         NaN  \n",
       "std          NaN  \n",
       "min          NaN  \n",
       "25%          NaN  \n",
       "50%          NaN  \n",
       "75%          NaN  \n",
       "max          NaN  "
      ]
     },
     "execution_count": 21,
     "metadata": {},
     "output_type": "execute_result"
    }
   ],
   "source": [
    "car.describe(include='all')"
   ]
  },
  {
   "cell_type": "code",
   "execution_count": null,
   "metadata": {},
   "outputs": [],
   "source": []
  },
  {
   "cell_type": "code",
   "execution_count": 22,
   "metadata": {},
   "outputs": [],
   "source": [
    "car=car[car['Price']<6000000]"
   ]
  },
  {
   "cell_type": "markdown",
   "metadata": {},
   "source": [
    "### Checking relationship of Company with Price"
   ]
  },
  {
   "cell_type": "code",
   "execution_count": 23,
   "metadata": {},
   "outputs": [
    {
     "data": {
      "text/plain": [
       "array(['Hyundai', 'Mahindra', 'Ford', 'Maruti', 'Skoda', 'Audi', 'Toyota',\n",
       "       'Renault', 'Honda', 'Datsun', 'Mitsubishi', 'Tata', 'Volkswagen',\n",
       "       'Chevrolet', 'Mini', 'BMW', 'Nissan', 'Hindustan', 'Fiat', 'Force',\n",
       "       'Mercedes', 'Land', 'Jaguar', 'Jeep', 'Volvo'], dtype=object)"
      ]
     },
     "execution_count": 23,
     "metadata": {},
     "output_type": "execute_result"
    }
   ],
   "source": [
    "car['company'].unique()"
   ]
  },
  {
   "cell_type": "code",
   "execution_count": 24,
   "metadata": {},
   "outputs": [],
   "source": [
    "import seaborn as sns"
   ]
  },
  {
   "cell_type": "code",
   "execution_count": 25,
   "metadata": {},
   "outputs": [
    {
     "data": {
      "image/png": "[encoded data removed]",
      "text/plain": [
       "<Figure size 1500x700 with 1 Axes>"
      ]
     },
     "metadata": {},
     "output_type": "display_data"
    }
   ],
   "source": [
    "plt.subplots(figsize=(15,7))\n",
    "ax=sns.boxplot(x='company',y='Price',data=car)\n",
    "ax.set_xticklabels(ax.get_xticklabels(),rotation=40,ha='right')\n",
    "plt.show()"
   ]
  },
  {
   "cell_type": "markdown",
   "metadata": {},
   "source": [
    "### Checking relationship of Year with Price"
   ]
  },
  {
   "cell_type": "code",
   "execution_count": 26,
   "metadata": {},
   "outputs": [
    {
     "name": "stderr",
     "output_type": "stream",
     "text": [
      "C:\\ProgramData\\anaconda3\\Lib\\site-packages\\seaborn\\_oldcore.py:1119: FutureWarning: use_inf_as_na option is deprecated and will be removed in a future version. Convert inf values to NaN before operating instead.\n",
      "  with pd.option_context('mode.use_inf_as_na', True):\n",
      "C:\\ProgramData\\anaconda3\\Lib\\site-packages\\seaborn\\_oldcore.py:1119: FutureWarning: use_inf_as_na option is deprecated and will be removed in a future version. Convert inf values to NaN before operating instead.\n",
      "  with pd.option_context('mode.use_inf_as_na', True):\n",
      "C:\\ProgramData\\anaconda3\\Lib\\site-packages\\seaborn\\categorical.py:3544: UserWarning: 13.6% of the points cannot be placed; you may want to decrease the size of the markers or use stripplot.\n",
      "  warnings.warn(msg, UserWarning)\n",
      "C:\\ProgramData\\anaconda3\\Lib\\site-packages\\seaborn\\categorical.py:3544: UserWarning: 13.0% of the points cannot be placed; you may want to decrease the size of the markers or use stripplot.\n",
      "  warnings.warn(msg, UserWarning)\n",
      "C:\\ProgramData\\anaconda3\\Lib\\site-packages\\seaborn\\categorical.py:3544: UserWarning: 6.8% of the points cannot be placed; you may want to decrease the size of the markers or use stripplot.\n",
      "  warnings.warn(msg, UserWarning)\n",
      "C:\\ProgramData\\anaconda3\\Lib\\site-packages\\seaborn\\categorical.py:3544: UserWarning: 10.6% of the points cannot be placed; you may want to decrease the size of the markers or use stripplot.\n",
      "  warnings.warn(msg, UserWarning)\n",
      "C:\\ProgramData\\anaconda3\\Lib\\site-packages\\seaborn\\categorical.py:3544: UserWarning: 7.7% of the points cannot be placed; you may want to decrease the size of the markers or use stripplot.\n",
      "  warnings.warn(msg, UserWarning)\n",
      "C:\\Users\\rohan\\AppData\\Local\\Temp\\ipykernel_11808\\2542042277.py:3: UserWarning: set_ticklabels() should only be used with a fixed number of ticks, i.e. after set_ticks() or using a FixedLocator.\n",
      "  ax.set_xticklabels(ax.get_xticklabels(),rotation=40,ha='right')\n",
      "C:\\ProgramData\\anaconda3\\Lib\\site-packages\\seaborn\\categorical.py:3544: UserWarning: 9.3% of the points cannot be placed; you may want to decrease the size of the markers or use stripplot.\n",
      "  warnings.warn(msg, UserWarning)\n",
      "C:\\ProgramData\\anaconda3\\Lib\\site-packages\\seaborn\\categorical.py:3544: UserWarning: 6.8% of the points cannot be placed; you may want to decrease the size of the markers or use stripplot.\n",
      "  warnings.warn(msg, UserWarning)\n",
      "C:\\ProgramData\\anaconda3\\Lib\\site-packages\\seaborn\\categorical.py:3544: UserWarning: 9.6% of the points cannot be placed; you may want to decrease the size of the markers or use stripplot.\n",
      "  warnings.warn(msg, UserWarning)\n",
      "C:\\ProgramData\\anaconda3\\Lib\\site-packages\\seaborn\\categorical.py:3544: UserWarning: 5.5% of the points cannot be placed; you may want to decrease the size of the markers or use stripplot.\n",
      "  warnings.warn(msg, UserWarning)\n"
     ]
    },
    {
     "data": {
      "image/png": "[encoded data removed]",
      "text/plain": [
       "<Figure size 2000x1000 with 1 Axes>"
      ]
     },
     "metadata": {},
     "output_type": "display_data"
    }
   ],
   "source": [
    "plt.subplots(figsize=(20,10))\n",
    "ax=sns.swarmplot(x='year',y='Price',data=car)\n",
    "ax.set_xticklabels(ax.get_xticklabels(),rotation=40,ha='right')\n",
    "plt.show()"
   ]
  },
  {
   "cell_type": "markdown",
   "metadata": {},
   "source": [
    "### Checking relationship of kms_driven with Price"
   ]
  },
  {
   "cell_type": "code",
   "execution_count": 27,
   "metadata": {},
   "outputs": [
    {
     "data": {
      "text/plain": [
       "<seaborn.axisgrid.FacetGrid at 0x1a121f3bf90>"
      ]
     },
     "execution_count": 27,
     "metadata": {},
     "output_type": "execute_result"
    },
    {
     "data": {
      "image/png": "[encoded data removed]",
      "text/plain": [
       "<Figure size 1050x700 with 1 Axes>"
      ]
     },
     "metadata": {},
     "output_type": "display_data"
    }
   ],
   "source": [
    "sns.relplot(x='kms_driven',y='Price',data=car,height=7,aspect=1.5)"
   ]
  },
  {
   "cell_type": "markdown",
   "metadata": {},
   "source": [
    "### Checking relationship of Fuel Type with Price"
   ]
  },
  {
   "cell_type": "code",
   "execution_count": 28,
   "metadata": {},
   "outputs": [
    {
     "data": {
      "text/plain": [
       "<Axes: xlabel='fuel_type', ylabel='Price'>"
      ]
     },
     "execution_count": 28,
     "metadata": {},
     "output_type": "execute_result"
    },
    {
     "data": {
      "image/png": "[encoded data removed]",
      "text/plain": [
       "<Figure size 1400x700 with 1 Axes>"
      ]
     },
     "metadata": {},
     "output_type": "display_data"
    }
   ],
   "source": [
    "plt.subplots(figsize=(14,7))\n",
    "sns.boxplot(x='fuel_type',y='Price',data=car)"
   ]
  },
  {
   "cell_type": "markdown",
   "metadata": {},
   "source": [
    "### Relationship of Price with FuelType, Year and Company mixed"
   ]
  },
  {
   "cell_type": "code",
   "execution_count": 29,
   "metadata": {
    "scrolled": true
   },
   "outputs": [
    {
     "data": {
      "text/plain": [
       "<seaborn.axisgrid.FacetGrid at 0x1a12222d8d0>"
      ]
     },
     "execution_count": 29,
     "metadata": {},
     "output_type": "execute_result"
    },
    {
     "data": {
      "image/png": "[encoded data removed]",
      "text/plain": [
       "<Figure size 1492.62x700 with 1 Axes>"
      ]
     },
     "metadata": {},
     "output_type": "display_data"
    }
   ],
   "source": [
    "ax=sns.relplot(x='company',y='Price',data=car,hue='fuel_type',size='year',height=7,aspect=2)\n",
    "ax.set_xticklabels(rotation=40,ha='right')"
   ]
  },
  {
   "cell_type": "markdown",
   "metadata": {},
   "source": [
    "### Extracting Training Data"
   ]
  },
  {
   "cell_type": "code",
   "execution_count": 30,
   "metadata": {},
   "outputs": [],
   "source": [
    "X=car[['name','company','year','kms_driven','fuel_type']]\n",
    "y=car['Price']"
   ]
  },
  {
   "cell_type": "code",
   "execution_count": 31,
   "metadata": {},
   "outputs": [
    {
     "data": {
      "text/html": [
       "<div>\n",
       "<style scoped>\n",
       "    .dataframe tbody tr th:only-of-type {\n",
       "        vertical-align: middle;\n",
       "    }\n",
       "\n",
       "    .dataframe tbody tr th {\n",
       "        vertical-align: top;\n",
       "    }\n",
       "\n",
       "    .dataframe thead th {\n",
       "        text-align: right;\n",
       "    }\n",
       "</style>\n",
       "<table border=\"1\" class=\"dataframe\">\n",
       "  <thead>\n",
       "    <tr style=\"text-align: right;\">\n",
       "      <th></th>\n",
       "      <th>name</th>\n",
       "      <th>company</th>\n",
       "      <th>year</th>\n",
       "      <th>kms_driven</th>\n",
       "      <th>fuel_type</th>\n",
       "    </tr>\n",
       "  </thead>\n",
       "  <tbody>\n",
       "    <tr>\n",
       "      <th>0</th>\n",
       "      <td>Hyundai Santro Xing</td>\n",
       "      <td>Hyundai</td>\n",
       "      <td>2007</td>\n",
       "      <td>45000</td>\n",
       "      <td>Petrol</td>\n",
       "    </tr>\n",
       "    <tr>\n",
       "      <th>1</th>\n",
       "      <td>Mahindra Jeep CL550</td>\n",
       "      <td>Mahindra</td>\n",
       "      <td>2006</td>\n",
       "      <td>40</td>\n",
       "      <td>Diesel</td>\n",
       "    </tr>\n",
       "    <tr>\n",
       "      <th>2</th>\n",
       "      <td>Hyundai Grand i10</td>\n",
       "      <td>Hyundai</td>\n",
       "      <td>2014</td>\n",
       "      <td>28000</td>\n",
       "      <td>Petrol</td>\n",
       "    </tr>\n",
       "    <tr>\n",
       "      <th>3</th>\n",
       "      <td>Ford EcoSport Titanium</td>\n",
       "      <td>Ford</td>\n",
       "      <td>2014</td>\n",
       "      <td>36000</td>\n",
       "      <td>Diesel</td>\n",
       "    </tr>\n",
       "    <tr>\n",
       "      <th>4</th>\n",
       "      <td>Ford Figo</td>\n",
       "      <td>Ford</td>\n",
       "      <td>2012</td>\n",
       "      <td>41000</td>\n",
       "      <td>Diesel</td>\n",
       "    </tr>\n",
       "    <tr>\n",
       "      <th>...</th>\n",
       "      <td>...</td>\n",
       "      <td>...</td>\n",
       "      <td>...</td>\n",
       "      <td>...</td>\n",
       "      <td>...</td>\n",
       "    </tr>\n",
       "    <tr>\n",
       "      <th>811</th>\n",
       "      <td>Maruti Suzuki Ritz</td>\n",
       "      <td>Maruti</td>\n",
       "      <td>2011</td>\n",
       "      <td>50000</td>\n",
       "      <td>Petrol</td>\n",
       "    </tr>\n",
       "    <tr>\n",
       "      <th>812</th>\n",
       "      <td>Tata Indica V2</td>\n",
       "      <td>Tata</td>\n",
       "      <td>2009</td>\n",
       "      <td>30000</td>\n",
       "      <td>Diesel</td>\n",
       "    </tr>\n",
       "    <tr>\n",
       "      <th>813</th>\n",
       "      <td>Toyota Corolla Altis</td>\n",
       "      <td>Toyota</td>\n",
       "      <td>2009</td>\n",
       "      <td>132000</td>\n",
       "      <td>Petrol</td>\n",
       "    </tr>\n",
       "    <tr>\n",
       "      <th>814</th>\n",
       "      <td>Tata Zest XM</td>\n",
       "      <td>Tata</td>\n",
       "      <td>2018</td>\n",
       "      <td>27000</td>\n",
       "      <td>Diesel</td>\n",
       "    </tr>\n",
       "    <tr>\n",
       "      <th>815</th>\n",
       "      <td>Mahindra Quanto C8</td>\n",
       "      <td>Mahindra</td>\n",
       "      <td>2013</td>\n",
       "      <td>40000</td>\n",
       "      <td>Diesel</td>\n",
       "    </tr>\n",
       "  </tbody>\n",
       "</table>\n",
       "<p>815 rows × 5 columns</p>\n",
       "</div>"
      ],
      "text/plain": [
       "                       name   company  year  kms_driven fuel_type\n",
       "0       Hyundai Santro Xing   Hyundai  2007       45000    Petrol\n",
       "1       Mahindra Jeep CL550  Mahindra  2006          40    Diesel\n",
       "2         Hyundai Grand i10   Hyundai  2014       28000    Petrol\n",
       "3    Ford EcoSport Titanium      Ford  2014       36000    Diesel\n",
       "4                 Ford Figo      Ford  2012       41000    Diesel\n",
       "..                      ...       ...   ...         ...       ...\n",
       "811      Maruti Suzuki Ritz    Maruti  2011       50000    Petrol\n",
       "812          Tata Indica V2      Tata  2009       30000    Diesel\n",
       "813    Toyota Corolla Altis    Toyota  2009      132000    Petrol\n",
       "814            Tata Zest XM      Tata  2018       27000    Diesel\n",
       "815      Mahindra Quanto C8  Mahindra  2013       40000    Diesel\n",
       "\n",
       "[815 rows x 5 columns]"
      ]
     },
     "execution_count": 31,
     "metadata": {},
     "output_type": "execute_result"
    }
   ],
   "source": [
    "X"
   ]
  },
  {
   "cell_type": "code",
   "execution_count": 32,
   "metadata": {},
   "outputs": [
    {
     "data": {
      "text/plain": [
       "(815,)"
      ]
     },
     "execution_count": 32,
     "metadata": {},
     "output_type": "execute_result"
    }
   ],
   "source": [
    "y.shape"
   ]
  },
  {
   "cell_type": "markdown",
   "metadata": {},
   "source": [
    "### Applying Train Test Split"
   ]
  },
  {
   "cell_type": "code",
   "execution_count": 33,
   "metadata": {},
   "outputs": [],
   "source": [
    "from sklearn.model_selection import train_test_split\n",
    "X_train,X_test,y_train,y_test=train_test_split(X,y,test_size=0.2)"
   ]
  },
  {
   "cell_type": "code",
   "execution_count": 34,
   "metadata": {},
   "outputs": [],
   "source": [
    "from sklearn.linear_model import LinearRegression"
   ]
  },
  {
   "cell_type": "code",
   "execution_count": 35,
   "metadata": {},
   "outputs": [],
   "source": [
    "from sklearn.preprocessing import OneHotEncoder\n",
    "from sklearn.compose import make_column_transformer\n",
    "from sklearn.pipeline import make_pipeline\n",
    "from sklearn.metrics import r2_score"
   ]
  },
  {
   "cell_type": "markdown",
   "metadata": {},
   "source": [
    "#### Creating an OneHotEncoder object to contain all the possible categories"
   ]
  },
  {
   "cell_type": "code",
   "execution_count": 36,
   "metadata": {},
   "outputs": [
    {
     "data": {
      "text/html": [
       "<style>#sk-container-id-1 {color: black;background-color: white;}#sk-container-id-1 pre{padding: 0;}#sk-container-id-1 div.sk-toggleable {background-color: white;}#sk-container-id-1 label.sk-toggleable__label {cursor: pointer;display: block;width: 100%;margin-bottom: 0;padding: 0.3em;box-sizing: border-box;text-align: center;}#sk-container-id-1 label.sk-toggleable__label-arrow:before {content: \"▸\";float: left;margin-right: 0.25em;color: #696969;}#sk-container-id-1 label.sk-toggleable__label-arrow:hover:before {color: black;}#sk-container-id-1 div.sk-estimator:hover label.sk-toggleable__label-arrow:before {color: black;}#sk-container-id-1 div.sk-toggleable__content {max-height: 0;max-width: 0;overflow: hidden;text-align: left;background-color: #f0f8ff;}#sk-container-id-1 div.sk-toggleable__content pre {margin: 0.2em;color: black;border-radius: 0.25em;background-color: #f0f8ff;}#sk-container-id-1 input.sk-toggleable__control:checked~div.sk-toggleable__content {max-height: 200px;max-width: 100%;overflow: auto;}#sk-container-id-1 input.sk-toggleable__control:checked~label.sk-toggleable__label-arrow:before {content: \"▾\";}#sk-container-id-1 div.sk-estimator input.sk-toggleable__control:checked~label.sk-toggleable__label {background-color: #d4ebff;}#sk-container-id-1 div.sk-label input.sk-toggleable__control:checked~label.sk-toggleable__label {background-color: #d4ebff;}#sk-container-id-1 input.sk-hidden--visually {border: 0;clip: rect(1px 1px 1px 1px);clip: rect(1px, 1px, 1px, 1px);height: 1px;margin: -1px;overflow: hidden;padding: 0;position: absolute;width: 1px;}#sk-container-id-1 div.sk-estimator {font-family: monospace;background-color: #f0f8ff;border: 1px dotted black;border-radius: 0.25em;box-sizing: border-box;margin-bottom: 0.5em;}#sk-container-id-1 div.sk-estimator:hover {background-color: #d4ebff;}#sk-container-id-1 div.sk-parallel-item::after {content: \"\";width: 100%;border-bottom: 1px solid gray;flex-grow: 1;}#sk-container-id-1 div.sk-label:hover label.sk-toggleable__label {background-color: #d4ebff;}#sk-container-id-1 div.sk-serial::before {content: \"\";position: absolute;border-left: 1px solid gray;box-sizing: border-box;top: 0;bottom: 0;left: 50%;z-index: 0;}#sk-container-id-1 div.sk-serial {display: flex;flex-direction: column;align-items: center;background-color: white;padding-right: 0.2em;padding-left: 0.2em;position: relative;}#sk-container-id-1 div.sk-item {position: relative;z-index: 1;}#sk-container-id-1 div.sk-parallel {display: flex;align-items: stretch;justify-content: center;background-color: white;position: relative;}#sk-container-id-1 div.sk-item::before, #sk-container-id-1 div.sk-parallel-item::before {content: \"\";position: absolute;border-left: 1px solid gray;box-sizing: border-box;top: 0;bottom: 0;left: 50%;z-index: -1;}#sk-container-id-1 div.sk-parallel-item {display: flex;flex-direction: column;z-index: 1;position: relative;background-color: white;}#sk-container-id-1 div.sk-parallel-item:first-child::after {align-self: flex-end;width: 50%;}#sk-container-id-1 div.sk-parallel-item:last-child::after {align-self: flex-start;width: 50%;}#sk-container-id-1 div.sk-parallel-item:only-child::after {width: 0;}#sk-container-id-1 div.sk-dashed-wrapped {border: 1px dashed gray;margin: 0 0.4em 0.5em 0.4em;box-sizing: border-box;padding-bottom: 0.4em;background-color: white;}#sk-container-id-1 div.sk-label label {font-family: monospace;font-weight: bold;display: inline-block;line-height: 1.2em;}#sk-container-id-1 div.sk-label-container {text-align: center;}#sk-container-id-1 div.sk-container {/* jupyter's `normalize.less` sets `[hidden] { display: none; }` but bootstrap.min.css set `[hidden] { display: none !important; }` so we also need the `!important` here to be able to override the default hidden behavior on the sphinx rendered scikit-learn.org. See: https://github.com/scikit-learn/scikit-learn/issues/21755 */display: inline-block !important;position: relative;}#sk-container-id-1 div.sk-text-repr-fallback {display: none;}</style><div id=\"sk-container-id-1\" class=\"sk-top-container\"><div class=\"sk-text-repr-fallback\"><pre>OneHotEncoder()</pre><b>In a Jupyter environment, please rerun this cell to show the HTML representation or trust the notebook. <br />On GitHub, the HTML representation is unable to render, please try loading this page with nbviewer.org.</b></div><div class=\"sk-container\" hidden><div class=\"sk-item\"><div class=\"sk-estimator sk-toggleable\"><input class=\"sk-toggleable__control sk-hidden--visually\" id=\"sk-estimator-id-1\" type=\"checkbox\" checked><label for=\"sk-estimator-id-1\" class=\"sk-toggleable__label sk-toggleable__label-arrow\">OneHotEncoder</label><div class=\"sk-toggleable__content\"><pre>OneHotEncoder()</pre></div></div></div></div></div>"
      ],
      "text/plain": [
       "OneHotEncoder()"
      ]
     },
     "execution_count": 36,
     "metadata": {},
     "output_type": "execute_result"
    }
   ],
   "source": [
    "ohe=OneHotEncoder()\n",
    "ohe.fit(X[['name','company','fuel_type']])"
   ]
  },
  {
   "cell_type": "code",
   "execution_count": 37,
   "metadata": {},
   "outputs": [
    {
     "data": {
      "text/html": [
       "<div>\n",
       "<style scoped>\n",
       "    .dataframe tbody tr th:only-of-type {\n",
       "        vertical-align: middle;\n",
       "    }\n",
       "\n",
       "    .dataframe tbody tr th {\n",
       "        vertical-align: top;\n",
       "    }\n",
       "\n",
       "    .dataframe thead th {\n",
       "        text-align: right;\n",
       "    }\n",
       "</style>\n",
       "<table border=\"1\" class=\"dataframe\">\n",
       "  <thead>\n",
       "    <tr style=\"text-align: right;\">\n",
       "      <th></th>\n",
       "      <th>name</th>\n",
       "      <th>company</th>\n",
       "      <th>year</th>\n",
       "      <th>kms_driven</th>\n",
       "      <th>fuel_type</th>\n",
       "    </tr>\n",
       "  </thead>\n",
       "  <tbody>\n",
       "    <tr>\n",
       "      <th>0</th>\n",
       "      <td>Hyundai Santro Xing</td>\n",
       "      <td>Hyundai</td>\n",
       "      <td>2007</td>\n",
       "      <td>45000</td>\n",
       "      <td>Petrol</td>\n",
       "    </tr>\n",
       "    <tr>\n",
       "      <th>1</th>\n",
       "      <td>Mahindra Jeep CL550</td>\n",
       "      <td>Mahindra</td>\n",
       "      <td>2006</td>\n",
       "      <td>40</td>\n",
       "      <td>Diesel</td>\n",
       "    </tr>\n",
       "    <tr>\n",
       "      <th>2</th>\n",
       "      <td>Hyundai Grand i10</td>\n",
       "      <td>Hyundai</td>\n",
       "      <td>2014</td>\n",
       "      <td>28000</td>\n",
       "      <td>Petrol</td>\n",
       "    </tr>\n",
       "    <tr>\n",
       "      <th>3</th>\n",
       "      <td>Ford EcoSport Titanium</td>\n",
       "      <td>Ford</td>\n",
       "      <td>2014</td>\n",
       "      <td>36000</td>\n",
       "      <td>Diesel</td>\n",
       "    </tr>\n",
       "    <tr>\n",
       "      <th>4</th>\n",
       "      <td>Ford Figo</td>\n",
       "      <td>Ford</td>\n",
       "      <td>2012</td>\n",
       "      <td>41000</td>\n",
       "      <td>Diesel</td>\n",
       "    </tr>\n",
       "    <tr>\n",
       "      <th>...</th>\n",
       "      <td>...</td>\n",
       "      <td>...</td>\n",
       "      <td>...</td>\n",
       "      <td>...</td>\n",
       "      <td>...</td>\n",
       "    </tr>\n",
       "    <tr>\n",
       "      <th>811</th>\n",
       "      <td>Maruti Suzuki Ritz</td>\n",
       "      <td>Maruti</td>\n",
       "      <td>2011</td>\n",
       "      <td>50000</td>\n",
       "      <td>Petrol</td>\n",
       "    </tr>\n",
       "    <tr>\n",
       "      <th>812</th>\n",
       "      <td>Tata Indica V2</td>\n",
       "      <td>Tata</td>\n",
       "      <td>2009</td>\n",
       "      <td>30000</td>\n",
       "      <td>Diesel</td>\n",
       "    </tr>\n",
       "    <tr>\n",
       "      <th>813</th>\n",
       "      <td>Toyota Corolla Altis</td>\n",
       "      <td>Toyota</td>\n",
       "      <td>2009</td>\n",
       "      <td>132000</td>\n",
       "      <td>Petrol</td>\n",
       "    </tr>\n",
       "    <tr>\n",
       "      <th>814</th>\n",
       "      <td>Tata Zest XM</td>\n",
       "      <td>Tata</td>\n",
       "      <td>2018</td>\n",
       "      <td>27000</td>\n",
       "      <td>Diesel</td>\n",
       "    </tr>\n",
       "    <tr>\n",
       "      <th>815</th>\n",
       "      <td>Mahindra Quanto C8</td>\n",
       "      <td>Mahindra</td>\n",
       "      <td>2013</td>\n",
       "      <td>40000</td>\n",
       "      <td>Diesel</td>\n",
       "    </tr>\n",
       "  </tbody>\n",
       "</table>\n",
       "<p>815 rows × 5 columns</p>\n",
       "</div>"
      ],
      "text/plain": [
       "                       name   company  year  kms_driven fuel_type\n",
       "0       Hyundai Santro Xing   Hyundai  2007       45000    Petrol\n",
       "1       Mahindra Jeep CL550  Mahindra  2006          40    Diesel\n",
       "2         Hyundai Grand i10   Hyundai  2014       28000    Petrol\n",
       "3    Ford EcoSport Titanium      Ford  2014       36000    Diesel\n",
       "4                 Ford Figo      Ford  2012       41000    Diesel\n",
       "..                      ...       ...   ...         ...       ...\n",
       "811      Maruti Suzuki Ritz    Maruti  2011       50000    Petrol\n",
       "812          Tata Indica V2      Tata  2009       30000    Diesel\n",
       "813    Toyota Corolla Altis    Toyota  2009      132000    Petrol\n",
       "814            Tata Zest XM      Tata  2018       27000    Diesel\n",
       "815      Mahindra Quanto C8  Mahindra  2013       40000    Diesel\n",
       "\n",
       "[815 rows x 5 columns]"
      ]
     },
     "execution_count": 37,
     "metadata": {},
     "output_type": "execute_result"
    }
   ],
   "source": [
    "X"
   ]
  },
  {
   "cell_type": "markdown",
   "metadata": {},
   "source": [
    "#### Creating a column transformer to transform categorical columns"
   ]
  },
  {
   "cell_type": "code",
   "execution_count": 38,
   "metadata": {},
   "outputs": [],
   "source": [
    "column_trans=make_column_transformer((OneHotEncoder(categories=ohe.categories_),['name','company','fuel_type']),\n",
    "                                    remainder='passthrough')"
   ]
  },
  {
   "cell_type": "markdown",
   "metadata": {},
   "source": [
    "#### Linear Regression Model"
   ]
  },
  {
   "cell_type": "code",
   "execution_count": 39,
   "metadata": {},
   "outputs": [],
   "source": [
    "lr=LinearRegression()"
   ]
  },
  {
   "cell_type": "markdown",
   "metadata": {},
   "source": [
    "#### Making a pipeline"
   ]
  },
  {
   "cell_type": "code",
   "execution_count": 40,
   "metadata": {},
   "outputs": [],
   "source": [
    "pipe=make_pipeline(column_trans,lr)"
   ]
  },
  {
   "cell_type": "markdown",
   "metadata": {},
   "source": [
    "#### Fitting the  model"
   ]
  },
  {
   "cell_type": "code",
   "execution_count": 42,
   "metadata": {
    "scrolled": true
   },
   "outputs": [
    {
     "data": {
      "text/html": [
       "<style>#sk-container-id-3 {color: black;background-color: white;}#sk-container-id-3 pre{padding: 0;}#sk-container-id-3 div.sk-toggleable {background-color: white;}#sk-container-id-3 label.sk-toggleable__label {cursor: pointer;display: block;width: 100%;margin-bottom: 0;padding: 0.3em;box-sizing: border-box;text-align: center;}#sk-container-id-3 label.sk-toggleable__label-arrow:before {content: \"▸\";float: left;margin-right: 0.25em;color: #696969;}#sk-container-id-3 label.sk-toggleable__label-arrow:hover:before {color: black;}#sk-container-id-3 div.sk-estimator:hover label.sk-toggleable__label-arrow:before {color: black;}#sk-container-id-3 div.sk-toggleable__content {max-height: 0;max-width: 0;overflow: hidden;text-align: left;background-color: #f0f8ff;}#sk-container-id-3 div.sk-toggleable__content pre {margin: 0.2em;color: black;border-radius: 0.25em;background-color: #f0f8ff;}#sk-container-id-3 input.sk-toggleable__control:checked~div.sk-toggleable__content {max-height: 200px;max-width: 100%;overflow: auto;}#sk-container-id-3 input.sk-toggleable__control:checked~label.sk-toggleable__label-arrow:before {content: \"▾\";}#sk-container-id-3 div.sk-estimator input.sk-toggleable__control:checked~label.sk-toggleable__label {background-color: #d4ebff;}#sk-container-id-3 div.sk-label input.sk-toggleable__control:checked~label.sk-toggleable__label {background-color: #d4ebff;}#sk-container-id-3 input.sk-hidden--visually {border: 0;clip: rect(1px 1px 1px 1px);clip: rect(1px, 1px, 1px, 1px);height: 1px;margin: -1px;overflow: hidden;padding: 0;position: absolute;width: 1px;}#sk-container-id-3 div.sk-estimator {font-family: monospace;background-color: #f0f8ff;border: 1px dotted black;border-radius: 0.25em;box-sizing: border-box;margin-bottom: 0.5em;}#sk-container-id-3 div.sk-estimator:hover {background-color: #d4ebff;}#sk-container-id-3 div.sk-parallel-item::after {content: \"\";width: 100%;border-bottom: 1px solid gray;flex-grow: 1;}#sk-container-id-3 div.sk-label:hover label.sk-toggleable__label {background-color: #d4ebff;}#sk-container-id-3 div.sk-serial::before {content: \"\";position: absolute;border-left: 1px solid gray;box-sizing: border-box;top: 0;bottom: 0;left: 50%;z-index: 0;}#sk-container-id-3 div.sk-serial {display: flex;flex-direction: column;align-items: center;background-color: white;padding-right: 0.2em;padding-left: 0.2em;position: relative;}#sk-container-id-3 div.sk-item {position: relative;z-index: 1;}#sk-container-id-3 div.sk-parallel {display: flex;align-items: stretch;justify-content: center;background-color: white;position: relative;}#sk-container-id-3 div.sk-item::before, #sk-container-id-3 div.sk-parallel-item::before {content: \"\";position: absolute;border-left: 1px solid gray;box-sizing: border-box;top: 0;bottom: 0;left: 50%;z-index: -1;}#sk-container-id-3 div.sk-parallel-item {display: flex;flex-direction: column;z-index: 1;position: relative;background-color: white;}#sk-container-id-3 div.sk-parallel-item:first-child::after {align-self: flex-end;width: 50%;}#sk-container-id-3 div.sk-parallel-item:last-child::after {align-self: flex-start;width: 50%;}#sk-container-id-3 div.sk-parallel-item:only-child::after {width: 0;}#sk-container-id-3 div.sk-dashed-wrapped {border: 1px dashed gray;margin: 0 0.4em 0.5em 0.4em;box-sizing: border-box;padding-bottom: 0.4em;background-color: white;}#sk-container-id-3 div.sk-label label {font-family: monospace;font-weight: bold;display: inline-block;line-height: 1.2em;}#sk-container-id-3 div.sk-label-container {text-align: center;}#sk-container-id-3 div.sk-container {/* jupyter's `normalize.less` sets `[hidden] { display: none; }` but bootstrap.min.css set `[hidden] { display: none !important; }` so we also need the `!important` here to be able to override the default hidden behavior on the sphinx rendered scikit-learn.org. See: https://github.com/scikit-learn/scikit-learn/issues/21755 */display: inline-block !important;position: relative;}#sk-container-id-3 div.sk-text-repr-fallback {display: none;}</style><div id=\"sk-container-id-3\" class=\"sk-top-container\"><div class=\"sk-text-repr-fallback\"><pre>Pipeline(steps=[(&#x27;columntransformer&#x27;,\n",
       "                 ColumnTransformer(remainder=&#x27;passthrough&#x27;,\n",
       "                                   transformers=[(&#x27;onehotencoder&#x27;,\n",
       "                                                  OneHotEncoder(categories=[array([&#x27;Audi A3 Cabriolet&#x27;, &#x27;Audi A4 1.8&#x27;, &#x27;Audi A4 2.0&#x27;, &#x27;Audi A6 2.0&#x27;,\n",
       "       &#x27;Audi A8&#x27;, &#x27;Audi Q3 2.0&#x27;, &#x27;Audi Q5 2.0&#x27;, &#x27;Audi Q7&#x27;, &#x27;BMW 3 Series&#x27;,\n",
       "       &#x27;BMW 5 Series&#x27;, &#x27;BMW 7 Series&#x27;, &#x27;BMW X1&#x27;, &#x27;BMW X1 sDrive20d&#x27;,\n",
       "       &#x27;BMW X1 xDrive20d&#x27;, &#x27;Chevrolet Beat&#x27;, &#x27;Chevrolet Beat...\n",
       "                                                                            array([&#x27;Audi&#x27;, &#x27;BMW&#x27;, &#x27;Chevrolet&#x27;, &#x27;Datsun&#x27;, &#x27;Fiat&#x27;, &#x27;Force&#x27;, &#x27;Ford&#x27;,\n",
       "       &#x27;Hindustan&#x27;, &#x27;Honda&#x27;, &#x27;Hyundai&#x27;, &#x27;Jaguar&#x27;, &#x27;Jeep&#x27;, &#x27;Land&#x27;,\n",
       "       &#x27;Mahindra&#x27;, &#x27;Maruti&#x27;, &#x27;Mercedes&#x27;, &#x27;Mini&#x27;, &#x27;Mitsubishi&#x27;, &#x27;Nissan&#x27;,\n",
       "       &#x27;Renault&#x27;, &#x27;Skoda&#x27;, &#x27;Tata&#x27;, &#x27;Toyota&#x27;, &#x27;Volkswagen&#x27;, &#x27;Volvo&#x27;],\n",
       "      dtype=object),\n",
       "                                                                            array([&#x27;Diesel&#x27;, &#x27;LPG&#x27;, &#x27;Petrol&#x27;], dtype=object)]),\n",
       "                                                  [&#x27;name&#x27;, &#x27;company&#x27;,\n",
       "                                                   &#x27;fuel_type&#x27;])])),\n",
       "                (&#x27;linearregression&#x27;, LinearRegression())])</pre><b>In a Jupyter environment, please rerun this cell to show the HTML representation or trust the notebook. <br />On GitHub, the HTML representation is unable to render, please try loading this page with nbviewer.org.</b></div><div class=\"sk-container\" hidden><div class=\"sk-item sk-dashed-wrapped\"><div class=\"sk-label-container\"><div class=\"sk-label sk-toggleable\"><input class=\"sk-toggleable__control sk-hidden--visually\" id=\"sk-estimator-id-9\" type=\"checkbox\" ><label for=\"sk-estimator-id-9\" class=\"sk-toggleable__label sk-toggleable__label-arrow\">Pipeline</label><div class=\"sk-toggleable__content\"><pre>Pipeline(steps=[(&#x27;columntransformer&#x27;,\n",
       "                 ColumnTransformer(remainder=&#x27;passthrough&#x27;,\n",
       "                                   transformers=[(&#x27;onehotencoder&#x27;,\n",
       "                                                  OneHotEncoder(categories=[array([&#x27;Audi A3 Cabriolet&#x27;, &#x27;Audi A4 1.8&#x27;, &#x27;Audi A4 2.0&#x27;, &#x27;Audi A6 2.0&#x27;,\n",
       "       &#x27;Audi A8&#x27;, &#x27;Audi Q3 2.0&#x27;, &#x27;Audi Q5 2.0&#x27;, &#x27;Audi Q7&#x27;, &#x27;BMW 3 Series&#x27;,\n",
       "       &#x27;BMW 5 Series&#x27;, &#x27;BMW 7 Series&#x27;, &#x27;BMW X1&#x27;, &#x27;BMW X1 sDrive20d&#x27;,\n",
       "       &#x27;BMW X1 xDrive20d&#x27;, &#x27;Chevrolet Beat&#x27;, &#x27;Chevrolet Beat...\n",
       "                                                                            array([&#x27;Audi&#x27;, &#x27;BMW&#x27;, &#x27;Chevrolet&#x27;, &#x27;Datsun&#x27;, &#x27;Fiat&#x27;, &#x27;Force&#x27;, &#x27;Ford&#x27;,\n",
       "       &#x27;Hindustan&#x27;, &#x27;Honda&#x27;, &#x27;Hyundai&#x27;, &#x27;Jaguar&#x27;, &#x27;Jeep&#x27;, &#x27;Land&#x27;,\n",
       "       &#x27;Mahindra&#x27;, &#x27;Maruti&#x27;, &#x27;Mercedes&#x27;, &#x27;Mini&#x27;, &#x27;Mitsubishi&#x27;, &#x27;Nissan&#x27;,\n",
       "       &#x27;Renault&#x27;, &#x27;Skoda&#x27;, &#x27;Tata&#x27;, &#x27;Toyota&#x27;, &#x27;Volkswagen&#x27;, &#x27;Volvo&#x27;],\n",
       "      dtype=object),\n",
       "                                                                            array([&#x27;Diesel&#x27;, &#x27;LPG&#x27;, &#x27;Petrol&#x27;], dtype=object)]),\n",
       "                                                  [&#x27;name&#x27;, &#x27;company&#x27;,\n",
       "                                                   &#x27;fuel_type&#x27;])])),\n",
       "                (&#x27;linearregression&#x27;, LinearRegression())])</pre></div></div></div><div class=\"sk-serial\"><div class=\"sk-item sk-dashed-wrapped\"><div class=\"sk-label-container\"><div class=\"sk-label sk-toggleable\"><input class=\"sk-toggleable__control sk-hidden--visually\" id=\"sk-estimator-id-10\" type=\"checkbox\" ><label for=\"sk-estimator-id-10\" class=\"sk-toggleable__label sk-toggleable__label-arrow\">columntransformer: ColumnTransformer</label><div class=\"sk-toggleable__content\"><pre>ColumnTransformer(remainder=&#x27;passthrough&#x27;,\n",
       "                  transformers=[(&#x27;onehotencoder&#x27;,\n",
       "                                 OneHotEncoder(categories=[array([&#x27;Audi A3 Cabriolet&#x27;, &#x27;Audi A4 1.8&#x27;, &#x27;Audi A4 2.0&#x27;, &#x27;Audi A6 2.0&#x27;,\n",
       "       &#x27;Audi A8&#x27;, &#x27;Audi Q3 2.0&#x27;, &#x27;Audi Q5 2.0&#x27;, &#x27;Audi Q7&#x27;, &#x27;BMW 3 Series&#x27;,\n",
       "       &#x27;BMW 5 Series&#x27;, &#x27;BMW 7 Series&#x27;, &#x27;BMW X1&#x27;, &#x27;BMW X1 sDrive20d&#x27;,\n",
       "       &#x27;BMW X1 xDrive20d&#x27;, &#x27;Chevrolet Beat&#x27;, &#x27;Chevrolet Beat Diesel&#x27;,\n",
       "       &#x27;Chevrolet Beat LS&#x27;, &#x27;Chevrolet B...\n",
       "       &#x27;Volkswagen Vento Konekt&#x27;, &#x27;Volvo S80 Summum&#x27;], dtype=object),\n",
       "                                                           array([&#x27;Audi&#x27;, &#x27;BMW&#x27;, &#x27;Chevrolet&#x27;, &#x27;Datsun&#x27;, &#x27;Fiat&#x27;, &#x27;Force&#x27;, &#x27;Ford&#x27;,\n",
       "       &#x27;Hindustan&#x27;, &#x27;Honda&#x27;, &#x27;Hyundai&#x27;, &#x27;Jaguar&#x27;, &#x27;Jeep&#x27;, &#x27;Land&#x27;,\n",
       "       &#x27;Mahindra&#x27;, &#x27;Maruti&#x27;, &#x27;Mercedes&#x27;, &#x27;Mini&#x27;, &#x27;Mitsubishi&#x27;, &#x27;Nissan&#x27;,\n",
       "       &#x27;Renault&#x27;, &#x27;Skoda&#x27;, &#x27;Tata&#x27;, &#x27;Toyota&#x27;, &#x27;Volkswagen&#x27;, &#x27;Volvo&#x27;],\n",
       "      dtype=object),\n",
       "                                                           array([&#x27;Diesel&#x27;, &#x27;LPG&#x27;, &#x27;Petrol&#x27;], dtype=object)]),\n",
       "                                 [&#x27;name&#x27;, &#x27;company&#x27;, &#x27;fuel_type&#x27;])])</pre></div></div></div><div class=\"sk-parallel\"><div class=\"sk-parallel-item\"><div class=\"sk-item\"><div class=\"sk-label-container\"><div class=\"sk-label sk-toggleable\"><input class=\"sk-toggleable__control sk-hidden--visually\" id=\"sk-estimator-id-11\" type=\"checkbox\" ><label for=\"sk-estimator-id-11\" class=\"sk-toggleable__label sk-toggleable__label-arrow\">onehotencoder</label><div class=\"sk-toggleable__content\"><pre>[&#x27;name&#x27;, &#x27;company&#x27;, &#x27;fuel_type&#x27;]</pre></div></div></div><div class=\"sk-serial\"><div class=\"sk-item\"><div class=\"sk-estimator sk-toggleable\"><input class=\"sk-toggleable__control sk-hidden--visually\" id=\"sk-estimator-id-12\" type=\"checkbox\" ><label for=\"sk-estimator-id-12\" class=\"sk-toggleable__label sk-toggleable__label-arrow\">OneHotEncoder</label><div class=\"sk-toggleable__content\"><pre>OneHotEncoder(categories=[array([&#x27;Audi A3 Cabriolet&#x27;, &#x27;Audi A4 1.8&#x27;, &#x27;Audi A4 2.0&#x27;, &#x27;Audi A6 2.0&#x27;,\n",
       "       &#x27;Audi A8&#x27;, &#x27;Audi Q3 2.0&#x27;, &#x27;Audi Q5 2.0&#x27;, &#x27;Audi Q7&#x27;, &#x27;BMW 3 Series&#x27;,\n",
       "       &#x27;BMW 5 Series&#x27;, &#x27;BMW 7 Series&#x27;, &#x27;BMW X1&#x27;, &#x27;BMW X1 sDrive20d&#x27;,\n",
       "       &#x27;BMW X1 xDrive20d&#x27;, &#x27;Chevrolet Beat&#x27;, &#x27;Chevrolet Beat Diesel&#x27;,\n",
       "       &#x27;Chevrolet Beat LS&#x27;, &#x27;Chevrolet Beat LT&#x27;, &#x27;Chevrolet Beat PS&#x27;,\n",
       "       &#x27;Chevrolet Cruze LTZ&#x27;, &#x27;Chevrolet Enjoy&#x27;, &#x27;Chevrolet E...\n",
       "       &#x27;Volkswagen Vento Comfortline&#x27;, &#x27;Volkswagen Vento Highline&#x27;,\n",
       "       &#x27;Volkswagen Vento Konekt&#x27;, &#x27;Volvo S80 Summum&#x27;], dtype=object),\n",
       "                          array([&#x27;Audi&#x27;, &#x27;BMW&#x27;, &#x27;Chevrolet&#x27;, &#x27;Datsun&#x27;, &#x27;Fiat&#x27;, &#x27;Force&#x27;, &#x27;Ford&#x27;,\n",
       "       &#x27;Hindustan&#x27;, &#x27;Honda&#x27;, &#x27;Hyundai&#x27;, &#x27;Jaguar&#x27;, &#x27;Jeep&#x27;, &#x27;Land&#x27;,\n",
       "       &#x27;Mahindra&#x27;, &#x27;Maruti&#x27;, &#x27;Mercedes&#x27;, &#x27;Mini&#x27;, &#x27;Mitsubishi&#x27;, &#x27;Nissan&#x27;,\n",
       "       &#x27;Renault&#x27;, &#x27;Skoda&#x27;, &#x27;Tata&#x27;, &#x27;Toyota&#x27;, &#x27;Volkswagen&#x27;, &#x27;Volvo&#x27;],\n",
       "      dtype=object),\n",
       "                          array([&#x27;Diesel&#x27;, &#x27;LPG&#x27;, &#x27;Petrol&#x27;], dtype=object)])</pre></div></div></div></div></div></div><div class=\"sk-parallel-item\"><div class=\"sk-item\"><div class=\"sk-label-container\"><div class=\"sk-label sk-toggleable\"><input class=\"sk-toggleable__control sk-hidden--visually\" id=\"sk-estimator-id-13\" type=\"checkbox\" ><label for=\"sk-estimator-id-13\" class=\"sk-toggleable__label sk-toggleable__label-arrow\">remainder</label><div class=\"sk-toggleable__content\"><pre>[&#x27;year&#x27;, &#x27;kms_driven&#x27;]</pre></div></div></div><div class=\"sk-serial\"><div class=\"sk-item\"><div class=\"sk-estimator sk-toggleable\"><input class=\"sk-toggleable__control sk-hidden--visually\" id=\"sk-estimator-id-14\" type=\"checkbox\" ><label for=\"sk-estimator-id-14\" class=\"sk-toggleable__label sk-toggleable__label-arrow\">passthrough</label><div class=\"sk-toggleable__content\"><pre>passthrough</pre></div></div></div></div></div></div></div></div><div class=\"sk-item\"><div class=\"sk-estimator sk-toggleable\"><input class=\"sk-toggleable__control sk-hidden--visually\" id=\"sk-estimator-id-15\" type=\"checkbox\" ><label for=\"sk-estimator-id-15\" class=\"sk-toggleable__label sk-toggleable__label-arrow\">LinearRegression</label><div class=\"sk-toggleable__content\"><pre>LinearRegression()</pre></div></div></div></div></div></div></div>"
      ],
      "text/plain": [
       "Pipeline(steps=[('columntransformer',\n",
       "                 ColumnTransformer(remainder='passthrough',\n",
       "                                   transformers=[('onehotencoder',\n",
       "                                                  OneHotEncoder(categories=[array(['Audi A3 Cabriolet', 'Audi A4 1.8', 'Audi A4 2.0', 'Audi A6 2.0',\n",
       "       'Audi A8', 'Audi Q3 2.0', 'Audi Q5 2.0', 'Audi Q7', 'BMW 3 Series',\n",
       "       'BMW 5 Series', 'BMW 7 Series', 'BMW X1', 'BMW X1 sDrive20d',\n",
       "       'BMW X1 xDrive20d', 'Chevrolet Beat', 'Chevrolet Beat...\n",
       "                                                                            array(['Audi', 'BMW', 'Chevrolet', 'Datsun', 'Fiat', 'Force', 'Ford',\n",
       "       'Hindustan', 'Honda', 'Hyundai', 'Jaguar', 'Jeep', 'Land',\n",
       "       'Mahindra', 'Maruti', 'Mercedes', 'Mini', 'Mitsubishi', 'Nissan',\n",
       "       'Renault', 'Skoda', 'Tata', 'Toyota', 'Volkswagen', 'Volvo'],\n",
       "      dtype=object),\n",
       "                                                                            array(['Diesel', 'LPG', 'Petrol'], dtype=object)]),\n",
       "                                                  ['name', 'company',\n",
       "                                                   'fuel_type'])])),\n",
       "                ('linearregression', LinearRegression())])"
      ]
     },
     "execution_count": 42,
     "metadata": {},
     "output_type": "execute_result"
    }
   ],
   "source": [
    "pipe.fit(X_train,y_train)"
   ]
  },
  {
   "cell_type": "code",
   "execution_count": 43,
   "metadata": {},
   "outputs": [],
   "source": [
    "y_pred=pipe.predict(X_test)"
   ]
  },
  {
   "cell_type": "markdown",
   "metadata": {},
   "source": [
    "#### Checking R2 Score"
   ]
  },
  {
   "cell_type": "code",
   "execution_count": 44,
   "metadata": {},
   "outputs": [
    {
     "data": {
      "text/plain": [
       "0.5532363918681882"
      ]
     },
     "execution_count": 44,
     "metadata": {},
     "output_type": "execute_result"
    }
   ],
   "source": [
    "r2_score(y_test,y_pred)"
   ]
  },
  {
   "cell_type": "markdown",
   "metadata": {},
   "source": [
    "#### Finding the model with a random state of TrainTestSplit where the model was found to give almost 0.92 as r2_score"
   ]
  },
  {
   "cell_type": "code",
   "execution_count": 45,
   "metadata": {},
   "outputs": [],
   "source": [
    "scores=[]\n",
    "for i in range(1000):\n",
    "    X_train,X_test,y_train,y_test=train_test_split(X,y,test_size=0.1,random_state=i)\n",
    "    lr=LinearRegression()\n",
    "    pipe=make_pipeline(column_trans,lr)\n",
    "    pipe.fit(X_train,y_train)\n",
    "    y_pred=pipe.predict(X_test)\n",
    "    scores.append(r2_score(y_test,y_pred))"
   ]
  },
  {
   "cell_type": "code",
   "execution_count": 46,
   "metadata": {},
   "outputs": [
    {
     "data": {
      "text/plain": [
       "[0.6397216831115284,\n",
       " 0.5706985110435222,\n",
       " 0.611816377638561,\n",
       " 0.4753195219250336,\n",
       " 0.7936240620299657,\n",
       " 0.6043498574150061,\n",
       " 0.444786139223598,\n",
       " 0.5203284594487618,\n",
       " 0.5380662714585225,\n",
       " 0.645273806922845,\n",
       " 0.6669250505313582,\n",
       " 0.6570075316688436,\n",
       " 0.436376814360541,\n",
       " 0.5970011522922668,\n",
       " 0.7165968480099774,\n",
       " 0.5985949528836878,\n",
       " 0.469189135645355,\n",
       " 0.6711829762192266,\n",
       " 0.5748797800420871,\n",
       " 0.7054302384723095,\n",
       " 0.7178636184481639,\n",
       " 0.41261085094542005,\n",
       " 0.6500370988999006,\n",
       " 0.5953187890452051,\n",
       " 0.4575250725261474,\n",
       " 0.48397010182448175,\n",
       " 0.734139321145746,\n",
       " 0.7365064281371554,\n",
       " 0.6977429059122061,\n",
       " 0.5961042117297475,\n",
       " 0.6767748681253094,\n",
       " 0.8446978340122547,\n",
       " 0.7440255569572185,\n",
       " 0.758443063067328,\n",
       " 0.6369409214203388,\n",
       " 0.7978826738644986,\n",
       " 0.5053153510056467,\n",
       " 0.48559209572117445,\n",
       " 0.4878734369652824,\n",
       " 0.7621639573396254,\n",
       " 0.42473731285167315,\n",
       " 0.694769800833374,\n",
       " 0.4849718827189904,\n",
       " 0.515373324878221,\n",
       " 0.6071334475634267,\n",
       " 0.7118491806720642,\n",
       " 0.47061617410937906,\n",
       " 0.4720992867844531,\n",
       " 0.7680562374111075,\n",
       " 0.772048694227723,\n",
       " 0.4918219911843117,\n",
       " 0.6209468984141926,\n",
       " 0.7811547277544144,\n",
       " 0.7611061074831537,\n",
       " 0.5700033453319945,\n",
       " 0.742331533110462,\n",
       " 0.8599134538112347,\n",
       " 0.7500324520378305,\n",
       " 0.7150594918477144,\n",
       " 0.25489463262602163,\n",
       " 0.49116543673059276,\n",
       " 0.5198373480244379,\n",
       " 0.4750911811328805,\n",
       " 0.6848758963537915,\n",
       " 0.5234067988318154,\n",
       " 0.5268800129329076,\n",
       " 0.582410116220189,\n",
       " 0.6318020315714818,\n",
       " 0.774142275588112,\n",
       " 0.7404281837096869,\n",
       " 0.751302801982847,\n",
       " 0.7566933739391584,\n",
       " 0.5964822944193235,\n",
       " 0.7206649684043458,\n",
       " 0.5307303436028379,\n",
       " 0.6328745221205673,\n",
       " 0.5343915614031055,\n",
       " 0.7210975831633866,\n",
       " 0.47597111735197883,\n",
       " 0.6920919744594761,\n",
       " 0.4185690954278589,\n",
       " 0.4217182008286099,\n",
       " 0.6209607125019596,\n",
       " 0.7903796172890973,\n",
       " 0.7887142616692953,\n",
       " 0.6537062966356033,\n",
       " 0.7076445561052986,\n",
       " 0.48686509633938535,\n",
       " 0.6275682236324891,\n",
       " 0.5996185939907257,\n",
       " 0.7060030913676814,\n",
       " 0.579342087675385,\n",
       " 0.7198059998540984,\n",
       " 0.5838513129862752,\n",
       " 0.5915211882006026,\n",
       " 0.6048539780904568,\n",
       " 0.6510710191931663,\n",
       " 0.7205434724846962,\n",
       " 0.59864197692994,\n",
       " 0.6168498874907105,\n",
       " 0.7400391530730195,\n",
       " 0.6449390007717257,\n",
       " 0.717755139618267,\n",
       " 0.7056341797837054,\n",
       " 0.6532786574057472,\n",
       " 0.644086536479586,\n",
       " 0.47205657971432424,\n",
       " 0.4688406045000618,\n",
       " 0.5133746161109048,\n",
       " 0.7559608774762894,\n",
       " 0.8120989811467103,\n",
       " 0.6669305626804259,\n",
       " 0.4957382920722103,\n",
       " 0.7416025051790162,\n",
       " 0.5416368896839932,\n",
       " 0.5743166524496603,\n",
       " 0.6310642263861429,\n",
       " 0.6122317991016808,\n",
       " 0.49669421594331,\n",
       " 0.7484625571167671,\n",
       " 0.7319117311197287,\n",
       " 0.6520423818357662,\n",
       " 0.7441295617018187,\n",
       " 0.6403739535886948,\n",
       " 0.7161366624802992,\n",
       " 0.6014860847628765,\n",
       " 0.746166137010873,\n",
       " 0.8443887371881699,\n",
       " 0.5271857988137874,\n",
       " 0.548874788826472,\n",
       " 0.5914185677809405,\n",
       " 0.5809810085363737,\n",
       " 0.5885297625932097,\n",
       " 0.6257623867913258,\n",
       " 0.714344268098543,\n",
       " 0.8248017426057971,\n",
       " 0.5226424306868309,\n",
       " 0.6736862350540194,\n",
       " 0.5646501806270173,\n",
       " 0.6973008100983333,\n",
       " 0.5966730418882247,\n",
       " 0.5593313288672623,\n",
       " 0.7516735470204797,\n",
       " 0.34295599611832706,\n",
       " 0.7160899087790918,\n",
       " 0.7140417393151546,\n",
       " 0.7078180127511844,\n",
       " 0.4981800962202986,\n",
       " 0.5106351137204972,\n",
       " 0.5709909806047354,\n",
       " 0.4502021198405234,\n",
       " 0.8109844078088126,\n",
       " 0.5739068477365712,\n",
       " 0.4822336718085697,\n",
       " 0.696312915416015,\n",
       " 0.5901437253457158,\n",
       " 0.33909366259966434,\n",
       " 0.8151551581323554,\n",
       " 0.589045065647692,\n",
       " 0.6825709848848877,\n",
       " 0.5397430724743312,\n",
       " 0.4755452882472697,\n",
       " 0.6547542429528941,\n",
       " 0.4709129251567621,\n",
       " 0.5993171366910586,\n",
       " 0.6267079225786808,\n",
       " 0.746982689392791,\n",
       " 0.7277107903732296,\n",
       " 0.43852948594660046,\n",
       " 0.7045764549460911,\n",
       " 0.8171110312354644,\n",
       " 0.8082579679379458,\n",
       " 0.8275888654480529,\n",
       " 0.7739132930064232,\n",
       " 0.5429365458043615,\n",
       " 0.18198542958618968,\n",
       " 0.6855834135781064,\n",
       " 0.5927529918005374,\n",
       " 0.6749848077580904,\n",
       " 0.6422227679548524,\n",
       " 0.6380729618247422,\n",
       " 0.6041830856413525,\n",
       " 0.6238063566229413,\n",
       " 0.6119989713727214,\n",
       " 0.6397905643377724,\n",
       " 0.6876777582038154,\n",
       " 0.6557113406806041,\n",
       " 0.6640665447728864,\n",
       " 0.6843801553607259,\n",
       " 0.5581737414898045,\n",
       " 0.7957418085221994,\n",
       " 0.6774302959845026,\n",
       " 0.750305925044067,\n",
       " 0.6781374041927382,\n",
       " 0.71507494951354,\n",
       " 0.4646293524597076,\n",
       " -0.10118612654854364,\n",
       " 0.6694302394034534,\n",
       " 0.4674250815491723,\n",
       " 0.6292842603415336,\n",
       " 0.6515058742148536,\n",
       " 0.4692961010046697,\n",
       " 0.5737161702137794,\n",
       " 0.7422597855449379,\n",
       " 0.6031371824544929,\n",
       " 0.6151741366757784,\n",
       " 0.7235347563048335,\n",
       " 0.5778804631749588,\n",
       " 0.679734064649953,\n",
       " 0.5317447698935392,\n",
       " 0.5108304668717212,\n",
       " 0.5936037081953975,\n",
       " 0.5958464210645853,\n",
       " 0.6041749898988262,\n",
       " 0.6571557629069216,\n",
       " 0.478835220505468,\n",
       " 0.5838634132973968,\n",
       " 0.5795996668636247,\n",
       " 0.6632798986958824,\n",
       " 0.7358299071361742,\n",
       " 0.6325689177761493,\n",
       " 0.6780902094254571,\n",
       " 0.4783669611566165,\n",
       " 0.4467659347522851,\n",
       " 0.4600306215074754,\n",
       " 0.7382935202558437,\n",
       " 0.6717151323955339,\n",
       " 0.6608590623831238,\n",
       " 0.6744842845156879,\n",
       " 0.5048132902199727,\n",
       " 0.504759671325368,\n",
       " 0.5624233657536194,\n",
       " 0.5477647270754549,\n",
       " 0.591123336891161,\n",
       " 0.8128241063108175,\n",
       " 0.7704328814966018,\n",
       " 0.8407651181028767,\n",
       " 0.6918866146152967,\n",
       " 0.4327301002513363,\n",
       " 0.5719873317759354,\n",
       " 0.7485688834303998,\n",
       " 0.35294187887963213,\n",
       " 0.6185682556404031,\n",
       " 0.7557127420621244,\n",
       " 0.5279911543019528,\n",
       " 0.7526733631466777,\n",
       " 0.7825114663313542,\n",
       " 0.8235434177045773,\n",
       " 0.7653066032305949,\n",
       " 0.2724204250702983,\n",
       " 0.46443186267145453,\n",
       " 0.3695393763936048,\n",
       " 0.43177557743955464,\n",
       " 0.691823743515158,\n",
       " 0.6823144478845167,\n",
       " 0.7686007583135532,\n",
       " 0.5503148832574201,\n",
       " 0.5397822115125928,\n",
       " 0.5527643050425108,\n",
       " 0.4179368104974154,\n",
       " 0.7938784288950733,\n",
       " 0.6697162694039434,\n",
       " 0.8071969264513066,\n",
       " 0.7487340441616612,\n",
       " 0.5009424112754157,\n",
       " 0.4329951654500275,\n",
       " 0.6870610669827635,\n",
       " 0.616391900409589,\n",
       " 0.5430661066679041,\n",
       " 0.4227183027027587,\n",
       " 0.5725094570566993,\n",
       " 0.6007580327101236,\n",
       " 0.728137424246964,\n",
       " 0.6398866645985836,\n",
       " 0.6218875576875529,\n",
       " 0.5328964838974612,\n",
       " 0.652967721951244,\n",
       " 0.6592206335901667,\n",
       " 0.7634943127911491,\n",
       " 0.7587612696861341,\n",
       " 0.5657647438974773,\n",
       " 0.6950692847291302,\n",
       " 0.6687841650417987,\n",
       " 0.6628162143080705,\n",
       " 0.7806518639723705,\n",
       " 0.4781073714533194,\n",
       " 0.7779371436564168,\n",
       " 0.6187531317584779,\n",
       " 0.4678742274809028,\n",
       " 0.6117688584476444,\n",
       " 0.5837723358682969,\n",
       " 0.5974576802861109,\n",
       " 0.7669996480132277,\n",
       " 0.7382155591116342,\n",
       " 0.8272682411166757,\n",
       " 0.5009947093599356,\n",
       " 0.7077492903991569,\n",
       " 0.6984796404667921,\n",
       " 0.6689552498846785,\n",
       " 0.6785569331349901,\n",
       " 0.7351723586535162,\n",
       " 0.662554205501769,\n",
       " 0.8991190946804755,\n",
       " 0.5737693120239262,\n",
       " 0.7714543223672905,\n",
       " 0.6063827332873201,\n",
       " 0.7417331234608417,\n",
       " 0.6881849955526902,\n",
       " 0.5678281230928082,\n",
       " 0.7157466412711635,\n",
       " 0.7632255747477041,\n",
       " 0.6971546079878459,\n",
       " 0.3692710770984545,\n",
       " 0.387099214985155,\n",
       " 0.5203864858889296,\n",
       " 0.7201018205094272,\n",
       " 0.5522800496678302,\n",
       " 0.5643369862593348,\n",
       " 0.5607620187930966,\n",
       " 0.6155097325463356,\n",
       " 0.5733543432774855,\n",
       " 0.7677643831644669,\n",
       " 0.4736959892578687,\n",
       " 0.5740549202358254,\n",
       " 0.5560606053862062,\n",
       " 0.5712101263846784,\n",
       " 0.6657293931987924,\n",
       " 0.5682529738342729,\n",
       " 0.641204207881245,\n",
       " 0.5629459933442889,\n",
       " 0.612375903192291,\n",
       " 0.6743264396345758,\n",
       " 0.6323597081234313,\n",
       " 0.4831696343094227,\n",
       " 0.7315500938005003,\n",
       " 0.5745541588957268,\n",
       " 0.4852231643596129,\n",
       " 0.6664040270022527,\n",
       " 0.7559545245556663,\n",
       " 0.5322792227432219,\n",
       " 0.6734718475883625,\n",
       " 0.7274394809121618,\n",
       " 0.7832619424396923,\n",
       " 0.6398804018216637,\n",
       " 0.611376854113757,\n",
       " 0.6881802976349481,\n",
       " 0.6420752672520164,\n",
       " 0.5573958798849553,\n",
       " 0.4853622365848663,\n",
       " 0.6441798713408832,\n",
       " 0.6553613206539668,\n",
       " 0.6452948536544802,\n",
       " 0.8304206601176869,\n",
       " 0.4284082397604062,\n",
       " 0.6681548820839934,\n",
       " 0.6894055421597882,\n",
       " 0.618601209296462,\n",
       " 0.6803235682397304,\n",
       " 0.6856250811731969,\n",
       " 0.6458501968599692,\n",
       " 0.6558968032026331,\n",
       " 0.5425713158015506,\n",
       " 0.44357730358630587,\n",
       " 0.7134807104736054,\n",
       " 0.7211444564482381,\n",
       " 0.6635600727559432,\n",
       " 0.7662780851898283,\n",
       " 0.4259777002743802,\n",
       " 0.727376271921453,\n",
       " 0.7744280464283343,\n",
       " 0.7111814425912676,\n",
       " 0.4669950922906907,\n",
       " 0.5035708870785316,\n",
       " 0.6521132642350387,\n",
       " 0.37060564485940806,\n",
       " 0.5845793711313534,\n",
       " 0.6441272376214118,\n",
       " 0.5841887938239243,\n",
       " 0.8035133109571082,\n",
       " 0.7501442503319947,\n",
       " 0.49139577285941016,\n",
       " 0.7759005389644501,\n",
       " 0.6940085022429802,\n",
       " 0.8444989863253939,\n",
       " 0.6831072980189786,\n",
       " 0.6696963895048408,\n",
       " 0.7251672576577175,\n",
       " 0.47625423520775634,\n",
       " 0.5262193468890008,\n",
       " 0.41912933803620633,\n",
       " 0.7885398388600794,\n",
       " 0.6611434386399555,\n",
       " 0.817654315092527,\n",
       " 0.5382931219491602,\n",
       " 0.588716052472309,\n",
       " 0.6718290609662378,\n",
       " 0.5454034512883463,\n",
       " 0.5892960813428232,\n",
       " 0.49543061225724394,\n",
       " 0.7150158308194217,\n",
       " 0.5932605422461359,\n",
       " 0.6499560044070198,\n",
       " 0.7653398249460128,\n",
       " 0.43840978328907765,\n",
       " 0.7429133910845985,\n",
       " 0.1854987889241404,\n",
       " 0.5407901491185885,\n",
       " 0.7031546207926671,\n",
       " 0.7140772616613735,\n",
       " 0.6359133377388384,\n",
       " 0.7045401473421031,\n",
       " 0.6631246100143741,\n",
       " 0.653253732426141,\n",
       " 0.6811904019330779,\n",
       " 0.7290639175680379,\n",
       " 0.6059528328040927,\n",
       " 0.6375565819132599,\n",
       " 0.750425180961277,\n",
       " 0.6507814992329726,\n",
       " 0.6167647245356777,\n",
       " 0.7138308416618124,\n",
       " 0.6775818188780479,\n",
       " 0.6373652320599672,\n",
       " 0.45587376383961153,\n",
       " 0.6661025389769911,\n",
       " 0.5584057517010621,\n",
       " 0.4273319479991552,\n",
       " 0.7706187317230365,\n",
       " 0.5378263583162157,\n",
       " 0.7790601951891447,\n",
       " 0.6322619369462488,\n",
       " 0.8231941152189701,\n",
       " 0.735375968667789,\n",
       " 0.7879628799217571,\n",
       " 0.488165895163168,\n",
       " 0.760833891331888,\n",
       " 0.5329983768858777,\n",
       " 0.5717712961645529,\n",
       " 0.5495611259648172,\n",
       " 0.7428170498142288,\n",
       " 0.6654257871291004,\n",
       " 0.6654410427601991,\n",
       " 0.7980546378937182,\n",
       " 0.7613139173190642,\n",
       " 0.7680301880370635,\n",
       " 0.6415426331704072,\n",
       " 0.737945375576506,\n",
       " 0.643361777739496,\n",
       " 0.6326024557037049,\n",
       " 0.7001589434505762,\n",
       " 0.6277428479803152,\n",
       " 0.5488196884734926,\n",
       " 0.74317202941384,\n",
       " 0.5961325424796518,\n",
       " 0.5749644544651078,\n",
       " 0.6720955293400603,\n",
       " 0.3541188081485759,\n",
       " 0.40845380944274623,\n",
       " 0.6671457671413626,\n",
       " 0.6707339661580208,\n",
       " 0.735960713850774,\n",
       " 0.4877204407409024,\n",
       " 0.6678411438812082,\n",
       " 0.8588294955733005,\n",
       " 0.41139480581540266,\n",
       " 0.6489252427697016,\n",
       " 0.4706621865956788,\n",
       " 0.6513645634228248,\n",
       " 0.6641670283884775,\n",
       " 0.5760988893742319,\n",
       " 0.6260097784869811,\n",
       " 0.43555580509892244,\n",
       " 0.2522378909665689,\n",
       " 0.5072839108597897,\n",
       " 0.7042865811183228,\n",
       " 0.6596967147001116,\n",
       " 0.5531928086446545,\n",
       " 0.6762399865195903,\n",
       " 0.7342878596571609,\n",
       " 0.5422749218027965,\n",
       " 0.6889918239897657,\n",
       " 0.5966336058528481,\n",
       " 0.7830361375638785,\n",
       " 0.7433283897602301,\n",
       " 0.7637515622186068,\n",
       " 0.6547701480517327,\n",
       " 0.5704692285678619,\n",
       " 0.5390190309644745,\n",
       " 0.7672929997564077,\n",
       " 0.6437374711594446,\n",
       " 0.4591077667376269,\n",
       " 0.7727972691407943,\n",
       " 0.6543961397693456,\n",
       " 0.5166564025091291,\n",
       " 0.6143210106653456,\n",
       " 0.5282098968707416,\n",
       " 0.6620172004163338,\n",
       " 0.5900564921891602,\n",
       " 0.668590447533717,\n",
       " 0.8451710328443689,\n",
       " 0.6887359868361601,\n",
       " 0.5970532942331448,\n",
       " 0.6740178968762502,\n",
       " 0.6871329306363037,\n",
       " 0.6716137346045958,\n",
       " 0.6003010234130131,\n",
       " 0.5195406377811005,\n",
       " 0.8485592922200849,\n",
       " 0.6114215111772892,\n",
       " 0.6491028626976649,\n",
       " 0.6810986868201467,\n",
       " 0.8456097788666096,\n",
       " 0.6631953451570204,\n",
       " 0.7451076682838689,\n",
       " 0.640203850632377,\n",
       " 0.8245650228771507,\n",
       " 0.7360860771349311,\n",
       " 0.7350338794984115,\n",
       " 0.5942034168772705,\n",
       " 0.6962140034991189,\n",
       " 0.7593322399157134,\n",
       " 0.6184586626047202,\n",
       " 0.6768243604574133,\n",
       " 0.5621201302428291,\n",
       " 0.7266262862115965,\n",
       " 0.40867793023797216,\n",
       " 0.6376650764958269,\n",
       " 0.6312568372143244,\n",
       " 0.803470811196432,\n",
       " 0.6221792818489587,\n",
       " 0.6169235197038692,\n",
       " 0.4521568704333221,\n",
       " 0.5998059388962438,\n",
       " 0.7278463506011315,\n",
       " 0.6692650145338938,\n",
       " 0.7184441825139494,\n",
       " 0.529966075868032,\n",
       " 0.6987155200318588,\n",
       " 0.6929342087130296,\n",
       " 0.6157098534926645,\n",
       " 0.6844468937909216,\n",
       " 0.5161398908258752,\n",
       " 0.7034989404325027,\n",
       " 0.7382278053385587,\n",
       " 0.6517310931646658,\n",
       " 0.4622716779702518,\n",
       " 0.7248774013587241,\n",
       " 0.41540521011954434,\n",
       " 0.6372904447620118,\n",
       " 0.41274894887347413,\n",
       " 0.5571829702033662,\n",
       " 0.810679484040421,\n",
       " 0.7072153937919858,\n",
       " 0.7924727073940213,\n",
       " 0.6076318143161985,\n",
       " 0.6912845504237811,\n",
       " 0.43892757917612446,\n",
       " 0.543250215022067,\n",
       " 0.6555185274427122,\n",
       " 0.6192532172500386,\n",
       " 0.5478240862279883,\n",
       " 0.495047746329485,\n",
       " 0.721006481349161,\n",
       " 0.3579679481596061,\n",
       " 0.5952365916312492,\n",
       " 0.6800479009410798,\n",
       " 0.7708086550522708,\n",
       " 0.6126158664075447,\n",
       " 0.7869946792646598,\n",
       " 0.516033035163225,\n",
       " 0.5946044301928823,\n",
       " 0.7125233148686833,\n",
       " 0.6091105738361109,\n",
       " 0.6302769158578556,\n",
       " 0.7506407780472253,\n",
       " 0.7485644883183462,\n",
       " 0.7364703695776633,\n",
       " 0.655802168075041,\n",
       " 0.46460544548241234,\n",
       " 0.5480246064304934,\n",
       " 0.5373592344532163,\n",
       " 0.7442453612895511,\n",
       " 0.4389345733347255,\n",
       " 0.7934328125827832,\n",
       " 0.41777627537978457,\n",
       " 0.5094976854255353,\n",
       " 0.8309481023423673,\n",
       " 0.7535553785749242,\n",
       " 0.7505002031489081,\n",
       " 0.7310388169593542,\n",
       " 0.7375273283315817,\n",
       " 0.6346161184196952,\n",
       " 0.8131340161194143,\n",
       " 0.7495148399514977,\n",
       " 0.7093049802242677,\n",
       " 0.2759887831903841,\n",
       " 0.5137281024176371,\n",
       " 0.40023049791016174,\n",
       " 0.7404727500928081,\n",
       " 0.4501315183249417,\n",
       " 0.48306057814164094,\n",
       " 0.6736888059667592,\n",
       " 0.7208897880539593,\n",
       " 0.7055028135813854,\n",
       " 0.43918940235001425,\n",
       " 0.7914821150563105,\n",
       " 0.4742991093775323,\n",
       " 0.6983650964403118,\n",
       " 0.7445305688783457,\n",
       " 0.6458967615685419,\n",
       " 0.42347178800206065,\n",
       " 0.2348798211490437,\n",
       " 0.5836744693657283,\n",
       " 0.6079184481352715,\n",
       " 0.7267585090788778,\n",
       " 0.7233426866878625,\n",
       " 0.4307136653338598,\n",
       " 0.6322682234973988,\n",
       " 0.613608853034722,\n",
       " 0.5271909126456977,\n",
       " 0.5607447859086558,\n",
       " 0.6586777713701797,\n",
       " 0.5294105526241937,\n",
       " 0.6725311404008587,\n",
       " 0.8163991736625247,\n",
       " 0.46244766920316516,\n",
       " 0.4395033949460293,\n",
       " 0.48373574222633176,\n",
       " 0.6437663801018603,\n",
       " 0.627661821674382,\n",
       " 0.5884226433014308,\n",
       " 0.5985203879428702,\n",
       " 0.7053156400343934,\n",
       " 0.6461505190732952,\n",
       " 0.29147803885716583,\n",
       " 0.6924663554977613,\n",
       " 0.8522284890556445,\n",
       " 0.675347950760786,\n",
       " 0.7605851354418626,\n",
       " 0.7172542372389739,\n",
       " 0.5792187226622161,\n",
       " 0.6010805267121082,\n",
       " 0.6039727703148574,\n",
       " 0.593341976311906,\n",
       " 0.40502101603572205,\n",
       " 0.6984773667196624,\n",
       " 0.6693675625501719,\n",
       " 0.6080024486939766,\n",
       " 0.753547625842697,\n",
       " 0.7841664156724151,\n",
       " 0.6589973353151877,\n",
       " 0.42211256149246457,\n",
       " 0.7349400001281172,\n",
       " 0.7307489277908477,\n",
       " 0.5708916656801568,\n",
       " 0.8666854325203759,\n",
       " 0.6513340752279205,\n",
       " 0.4440668428053429,\n",
       " 0.6659349669042703,\n",
       " 0.7003281862252121,\n",
       " 0.535987741002945,\n",
       " 0.723473696864677,\n",
       " 0.5241721818037463,\n",
       " 0.5386515025409113,\n",
       " 0.5733298571166059,\n",
       " 0.5351262285904955,\n",
       " 0.650244984862629,\n",
       " 0.725430348273186,\n",
       " 0.7273448256907655,\n",
       " 0.7346178294575185,\n",
       " 0.7478300540689383,\n",
       " 0.6187475113014012,\n",
       " 0.6115384032424113,\n",
       " 0.6783340922580272,\n",
       " 0.5845649849787578,\n",
       " 0.6611132054945243,\n",
       " 0.6086777638382205,\n",
       " 0.49033165435368853,\n",
       " 0.7998211984200001,\n",
       " 0.6117644747715903,\n",
       " 0.7232327816432775,\n",
       " 0.5225681825332592,\n",
       " 0.7447166209447187,\n",
       " 0.6589233518395248,\n",
       " 0.5684644940356121,\n",
       " 0.6144703786089822,\n",
       " 0.8408901991466553,\n",
       " 0.6390986678982615,\n",
       " 0.5597274145134934,\n",
       " 0.7556469838572294,\n",
       " 0.6589991067905179,\n",
       " 0.7031899185316717,\n",
       " 0.6868550573288101,\n",
       " 0.6674307999729467,\n",
       " 0.7328690090016741,\n",
       " 0.7086091848584722,\n",
       " 0.7221455669764951,\n",
       " 0.612903203631186,\n",
       " 0.7478621000253056,\n",
       " 0.6737815661251587,\n",
       " 0.47344953146673807,\n",
       " 0.7107006113747107,\n",
       " 0.5648155572152251,\n",
       " 0.7628438891657308,\n",
       " 0.5356735112951195,\n",
       " 0.6270466007313715,\n",
       " 0.6158671726814549,\n",
       " 0.5599396641158509,\n",
       " 0.5092446945124747,\n",
       " 0.2946286583376009,\n",
       " 0.577814416757251,\n",
       " 0.7588563389596037,\n",
       " 0.7977668030361992,\n",
       " 0.7688136880140034,\n",
       " 0.45297610398124677,\n",
       " 0.7102039723181401,\n",
       " 0.7796047590006119,\n",
       " 0.5596939497860065,\n",
       " 0.43589880357354094,\n",
       " 0.6838091741854727,\n",
       " 0.4792819864158322,\n",
       " 0.6050398512469091,\n",
       " 0.7074617181431603,\n",
       " 0.796214379319138,\n",
       " 0.6526580573550043,\n",
       " 0.4876724593117088,\n",
       " 0.6356991621584287,\n",
       " 0.6666910085559559,\n",
       " 0.5374522358802006,\n",
       " 0.7597164416390667,\n",
       " 0.6250971928461209,\n",
       " 0.7095025697861985,\n",
       " 0.7965138571645585,\n",
       " 0.6020361583273408,\n",
       " 0.535694903378708,\n",
       " 0.4345874570044119,\n",
       " 0.7024888321110068,\n",
       " 0.5420682798584995,\n",
       " 0.5491493535170757,\n",
       " 0.5686025095981214,\n",
       " 0.7163244584099762,\n",
       " 0.608714526383715,\n",
       " 0.6912087138478606,\n",
       " 0.7333657385749945,\n",
       " 0.5724490038275225,\n",
       " 0.6378076559396733,\n",
       " 0.7464876806677314,\n",
       " 0.5172003055923495,\n",
       " 0.48331686736152313,\n",
       " 0.41530731249550223,\n",
       " 0.5603016585674669,\n",
       " 0.7073222453421246,\n",
       " 0.6816504578168388,\n",
       " 0.715280780296275,\n",
       " 0.6634037024524777,\n",
       " 0.5810606831403781,\n",
       " 0.4588905522050155,\n",
       " 0.7087754854865596,\n",
       " 0.6350939766458497,\n",
       " 0.5189933576408969,\n",
       " 0.6652644175107032,\n",
       " 0.720699706064707,\n",
       " 0.7178987316724339,\n",
       " 0.5736908278488888,\n",
       " 0.693564547157631,\n",
       " 0.5743598203360849,\n",
       " 0.6279484635413429,\n",
       " 0.5982936681623687,\n",
       " 0.40935491214357256,\n",
       " 0.7681823821233263,\n",
       " 0.5143987214038097,\n",
       " 0.6381340579642151,\n",
       " 0.7316031327748647,\n",
       " 0.6401978843920495,\n",
       " 0.4885200308739722,\n",
       " 0.5288226835710818,\n",
       " 0.603436572937615,\n",
       " 0.4884590770950581,\n",
       " 0.7353401567367581,\n",
       " 0.5819999206329216,\n",
       " 0.7423105995100663,\n",
       " 0.7764771824169704,\n",
       " 0.7190812561134876,\n",
       " 0.8275080048597446,\n",
       " 0.6846504641724501,\n",
       " 0.6145366673662515,\n",
       " 0.6442660422864521,\n",
       " 0.5576055766004124,\n",
       " 0.5077649366357639,\n",
       " 0.41524862641353977,\n",
       " 0.800480507137034,\n",
       " 0.7256528680958743,\n",
       " 0.760471190778983,\n",
       " 0.7410777714333261,\n",
       " 0.6527364032088676,\n",
       " 0.724221819722056,\n",
       " 0.7603009158282457,\n",
       " 0.47541071424873904,\n",
       " 0.3920124595369533,\n",
       " 0.6577258096335203,\n",
       " 0.6138923352420019,\n",
       " 0.4256898194034443,\n",
       " 0.6885069734983407,\n",
       " 0.6549418731703895,\n",
       " 0.7953755090743004,\n",
       " 0.6893884877569931,\n",
       " 0.6702585124850746,\n",
       " 0.8262073915315303,\n",
       " 0.41117751066251296,\n",
       " 0.6937625599753767,\n",
       " 0.4558389665160931,\n",
       " 0.6056912941544714,\n",
       " 0.6697687046803111,\n",
       " 0.5852294931889827,\n",
       " 0.830600431424456,\n",
       " 0.48172714734346156,\n",
       " 0.6550879561933113,\n",
       " 0.8372792883894338,\n",
       " 0.7201055053205758,\n",
       " 0.555088210914544,\n",
       " 0.687637476970728,\n",
       " 0.6383928096789915,\n",
       " 0.6860637988098331,\n",
       " 0.7208377525266113,\n",
       " 0.4369807022849881,\n",
       " 0.6761083167136379,\n",
       " 0.6263433387991979,\n",
       " 0.5738036286380853,\n",
       " 0.4858326863335156,\n",
       " 0.6282658733699091,\n",
       " 0.45429048943726225,\n",
       " 0.6541888218586189,\n",
       " 0.8142844545274044,\n",
       " 0.542716104344227,\n",
       " 0.7106173145040838,\n",
       " 0.6088308748279259,\n",
       " 0.6787390621123747,\n",
       " 0.606045170339147,\n",
       " 0.4944264659515193,\n",
       " 0.6728376194781689,\n",
       " 0.7231159726384234,\n",
       " 0.8456463939819426,\n",
       " 0.7274419021372294,\n",
       " 0.7249007348828005,\n",
       " 0.645174053178915,\n",
       " 0.7643760825936416,\n",
       " 0.6355370027593422,\n",
       " 0.6268906516764302,\n",
       " 0.7651099241191319,\n",
       " 0.7103573320826583,\n",
       " 0.7320363415667324,\n",
       " 0.744304218718896,\n",
       " 0.6488852626914887,\n",
       " 0.7019264827239043,\n",
       " 0.7266231476283744,\n",
       " 0.622167476708916,\n",
       " 0.4490988373904772,\n",
       " 0.4325628757775182,\n",
       " 0.7679351477284012,\n",
       " 0.5133760612913754,\n",
       " 0.6810128364736605,\n",
       " 0.6756446699916171,\n",
       " 0.5442479040526453,\n",
       " 0.6848067908773399,\n",
       " 0.6215752232485201,\n",
       " 0.28214601485645097,\n",
       " 0.608292691050024,\n",
       " 0.5630240172990769,\n",
       " 0.5951298624915544,\n",
       " 0.657820636624324,\n",
       " 0.5899692697952039,\n",
       " 0.6664334274788111,\n",
       " 0.7279460964493155,\n",
       " 0.6423496982745416,\n",
       " 0.8263252321188707,\n",
       " 0.7256964508163923,\n",
       " 0.6762492950119339,\n",
       " 0.5329811072001382,\n",
       " 0.6940750575723954,\n",
       " 0.655853726942945,\n",
       " 0.7333212760585199,\n",
       " 0.6259356063498724,\n",
       " 0.5573311790485246,\n",
       " 0.7388830723701345,\n",
       " 0.7673042226762076,\n",
       " 0.6034844656974778,\n",
       " 0.41039458233166637,\n",
       " 0.7593591727347345,\n",
       " 0.7817947779306151,\n",
       " 0.5764911944212989,\n",
       " 0.7843606939036257,\n",
       " 0.5414015609507581,\n",
       " 0.6434702687027416,\n",
       " 0.5579101274295617,\n",
       " 0.5369810607880691,\n",
       " 0.6583977567805906,\n",
       " 0.42160373472577284,\n",
       " 0.6530045931978462,\n",
       " 0.7497407013300548,\n",
       " 0.5856414257985458,\n",
       " 0.8083087240532193,\n",
       " 0.7170792334862943,\n",
       " 0.4093084275776533,\n",
       " 0.8097419367958849,\n",
       " 0.6636768923355901,\n",
       " 0.6586318484249822,\n",
       " 0.7769897539258475,\n",
       " 0.658362421410829,\n",
       " 0.7181523220883892,\n",
       " 0.7534054997509795,\n",
       " 0.7239540467488512,\n",
       " 0.5571570689920278,\n",
       " 0.6108472762139789,\n",
       " 0.5180323403877368,\n",
       " 0.5963719019039262,\n",
       " 0.7106956688292494,\n",
       " 0.4473254189308763,\n",
       " 0.47432727905070715,\n",
       " 0.7462519295086781,\n",
       " 0.4144131458495044,\n",
       " 0.5873579341952191,\n",
       " 0.7496014576859605,\n",
       " 0.7823278028394214,\n",
       " 0.7553336145392898,\n",
       " 0.6845663342425228,\n",
       " 0.7672359437258095,\n",
       " 0.7937333507571896,\n",
       " 0.5940047808851141,\n",
       " 0.5381702798372743,\n",
       " 0.6075516333379087,\n",
       " 0.4114438014595073,\n",
       " 0.761347959438647,\n",
       " 0.5337310058566758,\n",
       " 0.7140704135582143,\n",
       " 0.6656178357824338,\n",
       " 0.5948466780166197,\n",
       " 0.7055111208458333,\n",
       " 0.6782169123713591,\n",
       " 0.7722825745204007,\n",
       " 0.5801930906611952,\n",
       " 0.6988322609626173,\n",
       " 0.5726504064543932,\n",
       " 0.7250936238703487,\n",
       " 0.7115522924727912,\n",
       " 0.8262012734558197,\n",
       " 0.7134779046433364,\n",
       " 0.37894605220036737,\n",
       " 0.6140303903037272,\n",
       " 0.5949179026033264,\n",
       " 0.7674465741998808,\n",
       " 0.6145185193724345,\n",
       " 0.5426776652564449,\n",
       " 0.7629883230540495,\n",
       " 0.6479470897878661,\n",
       " 0.7459091644663026,\n",
       " 0.5965961601082237,\n",
       " 0.6142503512378481,\n",
       " 0.7471980366340625,\n",
       " 0.7937450691027245,\n",
       " 0.5267695881903829,\n",
       " 0.6975513767471241,\n",
       " 0.6393431067207153,\n",
       " 0.5330474830523223,\n",
       " 0.680447249416666,\n",
       " 0.4055170926961408,\n",
       " 0.6985508303791765,\n",
       " 0.8148839966508008,\n",
       " 0.7179244779476084,\n",
       " 0.8603911711454655,\n",
       " 0.7258083787626032,\n",
       " 0.3090751292220717,\n",
       " 0.5246582560901853,\n",
       " 0.6803553893494956,\n",
       " 0.3310319246326794,\n",
       " 0.7780065819386814,\n",
       " 0.6392662399294515,\n",
       " 0.6341609145557373,\n",
       " 0.7465820179957311,\n",
       " 0.5440979473970174,\n",
       " 0.3517119559929076,\n",
       " 0.6598831378998453,\n",
       " 0.7769661203764503,\n",
       " 0.7013129164070528,\n",
       " 0.6250490439562821,\n",
       " 0.5186774993739163,\n",
       " 0.5202174431173313,\n",
       " 0.8332582703050317,\n",
       " 0.5803386894634315,\n",
       " 0.5998034432563579,\n",
       " 0.6874754976593636,\n",
       " 0.680931534402718,\n",
       " 0.6535031895679259,\n",
       " 0.6185030449123715,\n",
       " 0.7046750013306007,\n",
       " 0.6717461822912898,\n",
       " 0.4280050009402958,\n",
       " 0.6795702260151962,\n",
       " 0.7048673162200638,\n",
       " 0.8370494767832056,\n",
       " 0.7646487405529471]"
      ]
     },
     "execution_count": 46,
     "metadata": {},
     "output_type": "execute_result"
    }
   ],
   "source": [
    "scores"
   ]
  },
  {
   "cell_type": "code",
   "execution_count": 47,
   "metadata": {},
   "outputs": [
    {
     "data": {
      "text/plain": [
       "302"
      ]
     },
     "execution_count": 47,
     "metadata": {},
     "output_type": "execute_result"
    }
   ],
   "source": [
    "np.argmax(scores)"
   ]
  },
  {
   "cell_type": "code",
   "execution_count": 48,
   "metadata": {},
   "outputs": [
    {
     "data": {
      "text/plain": [
       "0.8991190946804755"
      ]
     },
     "execution_count": 48,
     "metadata": {},
     "output_type": "execute_result"
    }
   ],
   "source": [
    "scores[np.argmax(scores)]"
   ]
  },
  {
   "cell_type": "code",
   "execution_count": 49,
   "metadata": {},
   "outputs": [
    {
     "data": {
      "text/plain": [
       "array([513219.81383255])"
      ]
     },
     "execution_count": 49,
     "metadata": {},
     "output_type": "execute_result"
    }
   ],
   "source": [
    "pipe.predict(pd.DataFrame(columns=X_test.columns,data=np.array(['Maruti Suzuki Swift','Maruti',2019,100,'Petrol']).reshape(1,5)))"
   ]
  },
  {
   "cell_type": "markdown",
   "metadata": {},
   "source": [
    "#### The best model is found at a certain random state "
   ]
  },
  {
   "cell_type": "code",
   "execution_count": 50,
   "metadata": {},
   "outputs": [
    {
     "data": {
      "text/plain": [
       "0.8991190946804755"
      ]
     },
     "execution_count": 50,
     "metadata": {},
     "output_type": "execute_result"
    }
   ],
   "source": [
    "X_train,X_test,y_train,y_test=train_test_split(X,y,test_size=0.1,random_state=np.argmax(scores))\n",
    "lr=LinearRegression()\n",
    "pipe=make_pipeline(column_trans,lr)\n",
    "pipe.fit(X_train,y_train)\n",
    "y_pred=pipe.predict(X_test)\n",
    "r2_score(y_test,y_pred)"
   ]
  },
  {
   "cell_type": "code",
   "execution_count": 51,
   "metadata": {},
   "outputs": [],
   "source": [
    "import pickle"
   ]
  },
  {
   "cell_type": "code",
   "execution_count": 52,
   "metadata": {},
   "outputs": [],
   "source": [
    "pickle.dump(pipe,open('LinearRegressionModel.pkl','wb'))"
   ]
  },
  {
   "cell_type": "code",
   "execution_count": 53,
   "metadata": {},
   "outputs": [
    {
     "data": {
      "text/plain": [
       "array([456547.69074882])"
      ]
     },
     "execution_count": 53,
     "metadata": {},
     "output_type": "execute_result"
    }
   ],
   "source": [
    "pipe.predict(pd.DataFrame(columns=['name','company','year','kms_driven','fuel_type'],data=np.array(['Maruti Suzuki Swift','Maruti',2019,100,'Petrol']).reshape(1,5)))"
   ]
  },
  {
   "cell_type": "code",
   "execution_count": 54,
   "metadata": {},
   "outputs": [
    {
     "data": {
      "text/plain": [
       "array(['Audi A3 Cabriolet', 'Audi A4 1.8', 'Audi A4 2.0', 'Audi A6 2.0',\n",
       "       'Audi A8', 'Audi Q3 2.0', 'Audi Q5 2.0', 'Audi Q7', 'BMW 3 Series',\n",
       "       'BMW 5 Series', 'BMW 7 Series', 'BMW X1', 'BMW X1 sDrive20d',\n",
       "       'BMW X1 xDrive20d', 'Chevrolet Beat', 'Chevrolet Beat Diesel',\n",
       "       'Chevrolet Beat LS', 'Chevrolet Beat LT', 'Chevrolet Beat PS',\n",
       "       'Chevrolet Cruze LTZ', 'Chevrolet Enjoy', 'Chevrolet Enjoy 1.4',\n",
       "       'Chevrolet Sail 1.2', 'Chevrolet Sail UVA', 'Chevrolet Spark',\n",
       "       'Chevrolet Spark 1.0', 'Chevrolet Spark LS', 'Chevrolet Spark LT',\n",
       "       'Chevrolet Tavera LS', 'Chevrolet Tavera Neo', 'Datsun GO T',\n",
       "       'Datsun Go Plus', 'Datsun Redi GO', 'Fiat Linea Emotion',\n",
       "       'Fiat Petra ELX', 'Fiat Punto Emotion', 'Force Motors Force',\n",
       "       'Force Motors One', 'Ford EcoSport', 'Ford EcoSport Ambiente',\n",
       "       'Ford EcoSport Titanium', 'Ford EcoSport Trend',\n",
       "       'Ford Endeavor 4x4', 'Ford Fiesta', 'Ford Fiesta SXi', 'Ford Figo',\n",
       "       'Ford Figo Diesel', 'Ford Figo Duratorq', 'Ford Figo Petrol',\n",
       "       'Ford Fusion 1.4', 'Ford Ikon 1.3', 'Ford Ikon 1.6',\n",
       "       'Hindustan Motors Ambassador', 'Honda Accord', 'Honda Amaze',\n",
       "       'Honda Amaze 1.2', 'Honda Amaze 1.5', 'Honda Brio', 'Honda Brio V',\n",
       "       'Honda Brio VX', 'Honda City', 'Honda City 1.5', 'Honda City SV',\n",
       "       'Honda City VX', 'Honda City ZX', 'Honda Jazz S', 'Honda Jazz VX',\n",
       "       'Honda Mobilio', 'Honda Mobilio S', 'Honda WR V', 'Hyundai Accent',\n",
       "       'Hyundai Accent Executive', 'Hyundai Accent GLE',\n",
       "       'Hyundai Accent GLX', 'Hyundai Creta', 'Hyundai Creta 1.6',\n",
       "       'Hyundai Elantra 1.8', 'Hyundai Elantra SX', 'Hyundai Elite i20',\n",
       "       'Hyundai Eon', 'Hyundai Eon D', 'Hyundai Eon Era',\n",
       "       'Hyundai Eon Magna', 'Hyundai Eon Sportz', 'Hyundai Fluidic Verna',\n",
       "       'Hyundai Getz', 'Hyundai Getz GLE', 'Hyundai Getz Prime',\n",
       "       'Hyundai Grand i10', 'Hyundai Santro', 'Hyundai Santro AE',\n",
       "       'Hyundai Santro Xing', 'Hyundai Sonata Transform', 'Hyundai Verna',\n",
       "       'Hyundai Verna 1.4', 'Hyundai Verna 1.6', 'Hyundai Verna Fluidic',\n",
       "       'Hyundai Verna Transform', 'Hyundai Verna VGT',\n",
       "       'Hyundai Xcent Base', 'Hyundai Xcent SX', 'Hyundai i10',\n",
       "       'Hyundai i10 Era', 'Hyundai i10 Magna', 'Hyundai i10 Sportz',\n",
       "       'Hyundai i20', 'Hyundai i20 Active', 'Hyundai i20 Asta',\n",
       "       'Hyundai i20 Magna', 'Hyundai i20 Select', 'Hyundai i20 Sportz',\n",
       "       'Jaguar XE XE', 'Jaguar XF 2.2', 'Jeep Wrangler Unlimited',\n",
       "       'Land Rover Freelander', 'Mahindra Bolero DI',\n",
       "       'Mahindra Bolero Power', 'Mahindra Bolero SLE',\n",
       "       'Mahindra Jeep CL550', 'Mahindra Jeep MM', 'Mahindra KUV100',\n",
       "       'Mahindra KUV100 K8', 'Mahindra Logan', 'Mahindra Logan Diesel',\n",
       "       'Mahindra Quanto C4', 'Mahindra Quanto C8', 'Mahindra Scorpio',\n",
       "       'Mahindra Scorpio 2.6', 'Mahindra Scorpio LX',\n",
       "       'Mahindra Scorpio S10', 'Mahindra Scorpio S4',\n",
       "       'Mahindra Scorpio SLE', 'Mahindra Scorpio SLX',\n",
       "       'Mahindra Scorpio VLX', 'Mahindra Scorpio Vlx',\n",
       "       'Mahindra Scorpio W', 'Mahindra TUV300 T4', 'Mahindra TUV300 T8',\n",
       "       'Mahindra Thar CRDe', 'Mahindra XUV500', 'Mahindra XUV500 W10',\n",
       "       'Mahindra XUV500 W6', 'Mahindra XUV500 W8', 'Mahindra Xylo D2',\n",
       "       'Mahindra Xylo E4', 'Mahindra Xylo E8', 'Maruti Suzuki 800',\n",
       "       'Maruti Suzuki A', 'Maruti Suzuki Alto', 'Maruti Suzuki Baleno',\n",
       "       'Maruti Suzuki Celerio', 'Maruti Suzuki Ciaz',\n",
       "       'Maruti Suzuki Dzire', 'Maruti Suzuki Eeco',\n",
       "       'Maruti Suzuki Ertiga', 'Maruti Suzuki Esteem',\n",
       "       'Maruti Suzuki Estilo', 'Maruti Suzuki Maruti',\n",
       "       'Maruti Suzuki Omni', 'Maruti Suzuki Ritz', 'Maruti Suzuki S',\n",
       "       'Maruti Suzuki SX4', 'Maruti Suzuki Stingray',\n",
       "       'Maruti Suzuki Swift', 'Maruti Suzuki Versa',\n",
       "       'Maruti Suzuki Vitara', 'Maruti Suzuki Wagon', 'Maruti Suzuki Zen',\n",
       "       'Mercedes Benz A', 'Mercedes Benz B', 'Mercedes Benz C',\n",
       "       'Mercedes Benz GLA', 'Mini Cooper S', 'Mitsubishi Lancer 1.8',\n",
       "       'Mitsubishi Pajero Sport', 'Nissan Micra XL', 'Nissan Micra XV',\n",
       "       'Nissan Sunny', 'Nissan Sunny XL', 'Nissan Terrano XL',\n",
       "       'Nissan X Trail', 'Renault Duster', 'Renault Duster 110',\n",
       "       'Renault Duster 110PS', 'Renault Duster 85', 'Renault Duster 85PS',\n",
       "       'Renault Duster RxL', 'Renault Kwid', 'Renault Kwid 1.0',\n",
       "       'Renault Kwid RXT', 'Renault Lodgy 85', 'Renault Scala RxL',\n",
       "       'Skoda Fabia', 'Skoda Fabia 1.2L', 'Skoda Fabia Classic',\n",
       "       'Skoda Laura', 'Skoda Octavia Classic', 'Skoda Rapid Elegance',\n",
       "       'Skoda Superb 1.8', 'Skoda Yeti Ambition', 'Tata Aria Pleasure',\n",
       "       'Tata Bolt XM', 'Tata Indica', 'Tata Indica V2', 'Tata Indica eV2',\n",
       "       'Tata Indigo CS', 'Tata Indigo LS', 'Tata Indigo LX',\n",
       "       'Tata Indigo Marina', 'Tata Indigo eCS', 'Tata Manza',\n",
       "       'Tata Manza Aqua', 'Tata Manza Aura', 'Tata Manza ELAN',\n",
       "       'Tata Nano', 'Tata Nano Cx', 'Tata Nano GenX', 'Tata Nano LX',\n",
       "       'Tata Nano Lx', 'Tata Sumo Gold', 'Tata Sumo Grande',\n",
       "       'Tata Sumo Victa', 'Tata Tiago Revotorq', 'Tata Tiago Revotron',\n",
       "       'Tata Tigor Revotron', 'Tata Venture EX', 'Tata Vista Quadrajet',\n",
       "       'Tata Zest Quadrajet', 'Tata Zest XE', 'Tata Zest XM',\n",
       "       'Toyota Corolla', 'Toyota Corolla Altis', 'Toyota Corolla H2',\n",
       "       'Toyota Etios', 'Toyota Etios G', 'Toyota Etios GD',\n",
       "       'Toyota Etios Liva', 'Toyota Fortuner', 'Toyota Fortuner 3.0',\n",
       "       'Toyota Innova 2.0', 'Toyota Innova 2.5', 'Toyota Qualis',\n",
       "       'Volkswagen Jetta Comfortline', 'Volkswagen Jetta Highline',\n",
       "       'Volkswagen Passat Diesel', 'Volkswagen Polo',\n",
       "       'Volkswagen Polo Comfortline', 'Volkswagen Polo Highline',\n",
       "       'Volkswagen Polo Highline1.2L', 'Volkswagen Polo Trendline',\n",
       "       'Volkswagen Vento Comfortline', 'Volkswagen Vento Highline',\n",
       "       'Volkswagen Vento Konekt', 'Volvo S80 Summum'], dtype=object)"
      ]
     },
     "execution_count": 54,
     "metadata": {},
     "output_type": "execute_result"
    }
   ],
   "source": [
    "pipe.steps[0][1].transformers[0][1].categories[0]"
   ]
  },
  {
   "cell_type": "code",
   "execution_count": null,
   "metadata": {},
   "outputs": [],
   "source": []
  },
  {
   "cell_type": "code",
   "execution_count": null,
   "metadata": {},
   "outputs": [],
   "source": []
  },
  {
   "cell_type": "code",
   "execution_count": null,
   "metadata": {},
   "outputs": [],
   "source": []
  }
 ],
 "metadata": {
  "kernelspec": {
   "display_name": "Python 3 (ipykernel)",
   "language": "python",
   "name": "python3"
  },
  "language_info": {
   "codemirror_mode": {
    "name": "ipython",
    "version": 3
   },
   "file_extension": ".py",
   "mimetype": "text/x-python",
   "name": "python",
   "nbconvert_exporter": "python",
   "pygments_lexer": "ipython3",
   "version": "3.11.7"
  }
 },
 "nbformat": 4,
 "nbformat_minor": 4
}
